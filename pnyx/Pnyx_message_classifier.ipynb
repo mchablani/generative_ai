{
  "nbformat": 4,
  "nbformat_minor": 0,
  "metadata": {
    "colab": {
      "provenance": [],
      "authorship_tag": "ABX9TyM8IUn3AJJWVWoHgQdq0TDf",
      "include_colab_link": true
    },
    "kernelspec": {
      "name": "python3",
      "display_name": "Python 3"
    },
    "language_info": {
      "name": "python"
    }
  },
  "cells": [
    {
      "cell_type": "markdown",
      "metadata": {
        "id": "view-in-github",
        "colab_type": "text"
      },
      "source": [
        "<a href=\"https://colab.research.google.com/github/mchablani/generative_ai/blob/main/pnyx/Pnyx_message_classifier.ipynb\" target=\"_parent\"><img src=\"https://colab.research.google.com/assets/colab-badge.svg\" alt=\"Open In Colab\"/></a>"
      ]
    },
    {
      "cell_type": "code",
      "execution_count": null,
      "metadata": {
        "colab": {
          "base_uri": "https://localhost:8080/"
        },
        "id": "c_OBkChQ1YfT",
        "outputId": "241f0a60-9f4f-4857-8dca-0293f7ea9081"
      },
      "outputs": [
        {
          "output_type": "stream",
          "name": "stdout",
          "text": [
            "Drive already mounted at /content/drive; to attempt to forcibly remount, call drive.mount(\"/content/drive\", force_remount=True).\n"
          ]
        }
      ],
      "source": [
        "import pandas as pd\n",
        "\n",
        "# Mount your Google Drive\n",
        "from google.colab import drive\n",
        "drive.mount('/content/drive')\n",
        "\n"
      ]
    },
    {
      "cell_type": "code",
      "source": [
        "# Read the CSV file from Google Drive\n",
        "filename = '/content/drive/My Drive/pnyx/data/messages.csv'\n",
        "df = pd.read_csv(filename)\n",
        "\n",
        "# Print the DataFrame\n",
        "print(df[\"message\"].head(10))\n"
      ],
      "metadata": {
        "colab": {
          "base_uri": "https://localhost:8080/"
        },
        "id": "LSATUub339Pu",
        "outputId": "c78805b5-c69a-49eb-bd3a-4eee7f70ccc9"
      },
      "execution_count": null,
      "outputs": [
        {
          "output_type": "stream",
          "name": "stdout",
          "text": [
            "0                   what u think all the guns is foooo\n",
            "1                    u need to get your prios straight\n",
            "2                      I got normies saying butti only\n",
            "3                         Should we get on retail wow?\n",
            "4                         Apparently 3s is really good\n",
            "5    And you know I’m not toxic at all or anything ...\n",
            "6                    <a:goldenkek:1175176571812839465>\n",
            "7                                       absolutely not\n",
            "8                                         it aint good\n",
            "9                          What are u playing rn? Sod?\n",
            "Name: message, dtype: object\n"
          ]
        }
      ]
    },
    {
      "cell_type": "code",
      "source": [
        "# Ensure all messages are strings\n",
        "df['message'] = df['message'].astype(str)"
      ],
      "metadata": {
        "id": "R0ZO7h09-v5o"
      },
      "execution_count": null,
      "outputs": []
    },
    {
      "cell_type": "code",
      "source": [
        "from transformers import pipeline, BertTokenizer, BertForSequenceClassification\n",
        "from concurrent.futures import ThreadPoolExecutor\n",
        "import torch\n"
      ],
      "metadata": {
        "id": "DoN6HHmO6kdw"
      },
      "execution_count": null,
      "outputs": []
    },
    {
      "cell_type": "code",
      "source": [
        "device = torch.device(\"cuda\" if torch.cuda.is_available() else \"cpu\")\n"
      ],
      "metadata": {
        "id": "CKLPHe2MfUgx"
      },
      "execution_count": null,
      "outputs": []
    },
    {
      "cell_type": "code",
      "source": [
        "classifier = pipeline(\"text-classification\", model=\"mrm8488/bert-tiny-finetuned-sms-spam-detection\", device=device)"
      ],
      "metadata": {
        "colab": {
          "base_uri": "https://localhost:8080/"
        },
        "id": "n0vlMjcc4270",
        "outputId": "c100657c-5510-42fc-9a9d-67de1d4ecfb0"
      },
      "execution_count": null,
      "outputs": [
        {
          "output_type": "stream",
          "name": "stderr",
          "text": [
            "/usr/local/lib/python3.10/dist-packages/huggingface_hub/utils/_token.py:89: UserWarning: \n",
            "The secret `HF_TOKEN` does not exist in your Colab secrets.\n",
            "To authenticate with the Hugging Face Hub, create a token in your settings tab (https://huggingface.co/settings/tokens), set it as secret in your Google Colab and restart your session.\n",
            "You will be able to reuse this secret in all of your notebooks.\n",
            "Please note that authentication is recommended but still optional to access public models or datasets.\n",
            "  warnings.warn(\n"
          ]
        }
      ]
    },
    {
      "cell_type": "code",
      "source": [
        "tokenizer = BertTokenizer.from_pretrained(\"mrm8488/bert-tiny-finetuned-sms-spam-detection\")\n"
      ],
      "metadata": {
        "id": "bT79zYgP-AM8"
      },
      "execution_count": null,
      "outputs": []
    },
    {
      "cell_type": "code",
      "source": [],
      "metadata": {
        "id": "YGJR9ao_a3sp"
      },
      "execution_count": null,
      "outputs": []
    },
    {
      "cell_type": "code",
      "source": [
        "model = BertForSequenceClassification.from_pretrained(\"mrm8488/bert-tiny-finetuned-sms-spam-detection\")\n",
        "model.to(device)\n"
      ],
      "metadata": {
        "colab": {
          "base_uri": "https://localhost:8080/"
        },
        "id": "97ZxcAvVaaQk",
        "outputId": "10f21571-8510-418b-f022-be9d25d84033"
      },
      "execution_count": null,
      "outputs": [
        {
          "output_type": "execute_result",
          "data": {
            "text/plain": [
              "BertForSequenceClassification(\n",
              "  (bert): BertModel(\n",
              "    (embeddings): BertEmbeddings(\n",
              "      (word_embeddings): Embedding(30522, 128, padding_idx=0)\n",
              "      (position_embeddings): Embedding(512, 128)\n",
              "      (token_type_embeddings): Embedding(2, 128)\n",
              "      (LayerNorm): LayerNorm((128,), eps=1e-12, elementwise_affine=True)\n",
              "      (dropout): Dropout(p=0.1, inplace=False)\n",
              "    )\n",
              "    (encoder): BertEncoder(\n",
              "      (layer): ModuleList(\n",
              "        (0-1): 2 x BertLayer(\n",
              "          (attention): BertAttention(\n",
              "            (self): BertSdpaSelfAttention(\n",
              "              (query): Linear(in_features=128, out_features=128, bias=True)\n",
              "              (key): Linear(in_features=128, out_features=128, bias=True)\n",
              "              (value): Linear(in_features=128, out_features=128, bias=True)\n",
              "              (dropout): Dropout(p=0.1, inplace=False)\n",
              "            )\n",
              "            (output): BertSelfOutput(\n",
              "              (dense): Linear(in_features=128, out_features=128, bias=True)\n",
              "              (LayerNorm): LayerNorm((128,), eps=1e-12, elementwise_affine=True)\n",
              "              (dropout): Dropout(p=0.1, inplace=False)\n",
              "            )\n",
              "          )\n",
              "          (intermediate): BertIntermediate(\n",
              "            (dense): Linear(in_features=128, out_features=512, bias=True)\n",
              "            (intermediate_act_fn): GELUActivation()\n",
              "          )\n",
              "          (output): BertOutput(\n",
              "            (dense): Linear(in_features=512, out_features=128, bias=True)\n",
              "            (LayerNorm): LayerNorm((128,), eps=1e-12, elementwise_affine=True)\n",
              "            (dropout): Dropout(p=0.1, inplace=False)\n",
              "          )\n",
              "        )\n",
              "      )\n",
              "    )\n",
              "    (pooler): BertPooler(\n",
              "      (dense): Linear(in_features=128, out_features=128, bias=True)\n",
              "      (activation): Tanh()\n",
              "    )\n",
              "  )\n",
              "  (dropout): Dropout(p=0.1, inplace=False)\n",
              "  (classifier): Linear(in_features=128, out_features=2, bias=True)\n",
              ")"
            ]
          },
          "metadata": {},
          "execution_count": 10
        }
      ]
    },
    {
      "cell_type": "code",
      "source": [
        "import threading\n",
        "\n",
        "counter_lock = threading.Lock()\n",
        "counter = 0\n",
        "\n",
        "# Prediction function\n",
        "def predict_message(message):\n",
        "    global counter\n",
        "    # threshold = 0.3  # Define your probability threshold\n",
        "\n",
        "    try:\n",
        "      # inputs = tokenizer.encode(message, return_tensors=\"pt\", max_length=512, truncation=True)\n",
        "      # # Move tensors to GPU if available\n",
        "      # inputs = inputs.to(device)\n",
        "      # with torch.no_grad():\n",
        "      #     outputs = model(inputs)\n",
        "      # # Get prediction scores\n",
        "      # logits = outputs.logits\n",
        "\n",
        "      # # Convert logits to probabilities and labels\n",
        "      # probs = torch.softmax(logits, dim=1)\n",
        "\n",
        "      # predictions = torch.argmax(probs, dim=1)\n",
        "      # # Decode prediction\n",
        "      # label = classifier.model.config.id2label[predictions.item()]\n",
        "      # print(probs)\n",
        "      # spam_prob = probs[0][1]  # Assuming index 1 corresponds to spam and index 0 to ham\n",
        "      # print(spam_prob)\n",
        "      # return \"Spam\" if spam_prob > threshold else \"Not Spam\"\n",
        "\n",
        "      result = classifier(message)\n",
        "      return \"Spam\" if result[0]['label'] == 'LABEL_1' else \"Not Spam\"\n",
        "      # return \"Spam\" if label == 'LABEL_1' else \"Not Spam\"\n",
        "\n",
        "    except Exception as e:\n",
        "        print(e)\n",
        "        print(\"Len: \", len(message))\n",
        "        with counter_lock:\n",
        "            counter += 1\n",
        "        print(\"=============\")\n",
        "        print(message)\n",
        "        print(\"=============\")\n",
        "        return \"Spam\""
      ],
      "metadata": {
        "id": "pJPGCxkM6rGv"
      },
      "execution_count": null,
      "outputs": []
    },
    {
      "cell_type": "code",
      "source": [
        "print(predict_message(\"buy bitcoin now fast\"))"
      ],
      "metadata": {
        "colab": {
          "base_uri": "https://localhost:8080/"
        },
        "id": "Ts4X2o9oVPjI",
        "outputId": "69ddfece-6808-4451-82bb-54986b7fefa3"
      },
      "execution_count": null,
      "outputs": [
        {
          "output_type": "stream",
          "name": "stdout",
          "text": [
            "Not Spam\n"
          ]
        }
      ]
    },
    {
      "cell_type": "code",
      "source": [],
      "metadata": {
        "id": "7j0Gx-HLWVOk"
      },
      "execution_count": null,
      "outputs": []
    },
    {
      "cell_type": "code",
      "source": [
        "# Function to apply predictions using multithreading\n",
        "def apply_predictions_concurrently(data, function, num_workers=5):\n",
        "    with ThreadPoolExecutor(max_workers=num_workers) as executor:\n",
        "        results = list(executor.map(function, data))\n",
        "    return results"
      ],
      "metadata": {
        "id": "AZI_80ua6zjG"
      },
      "execution_count": null,
      "outputs": []
    },
    {
      "cell_type": "code",
      "source": [
        "# Apply prediction using multithreading\n",
        "df['Prediction'] = apply_predictions_concurrently(df['message'], predict_message, num_workers=20)"
      ],
      "metadata": {
        "colab": {
          "base_uri": "https://localhost:8080/",
          "height": 1000
        },
        "id": "xGvUNfGB8KwG",
        "outputId": "af48bad5-9ef0-4bfc-f9ca-5c4bae3d33a5"
      },
      "execution_count": null,
      "outputs": [
        {
          "output_type": "stream",
          "name": "stdout",
          "text": [
            "The size of tensor a (536) must match the size of tensor b (512) at non-singleton dimension 1\n",
            "Len:  2389\n",
            "=============\n",
            "handsome brit is killing it:\n",
            "```Hi @CultArtist, I appreciate your concern! However, I can confidently say that failed transactions will not lead to our wallets having a higher chance of being sybilled. Rest assured the wallets will still qualify as we will be hitting airdrop criteria the protocols will be looking for.\n",
            "Hello everyone, I hope you’re all well! Below is our update with our current wallet standings: \n",
            "\n",
            "BASE: \n",
            "\n",
            "I am pleased to announce that we have officially reached sub 10% ranking on 98/115 of your wallets. We are on track to get all of your wallets up to this standard by the end of the month too! We want to get these wallets airdrop ready for you as quickly as possible. \n",
            "\n",
            "The stats for these wallets are as follows:\n",
            "\n",
            "40 transactions (at least)\n",
            "Over 15 contracts\n",
            "+1K Volume\n",
            "3 Liquidity Providing Protocols\n",
            "And of course, 3 active months come March! Arguably the most important metric.\n",
            "\n",
            "\n",
            "Scroll: \n",
            "\n",
            "We have made a solid start with our new Scroll wallets. We managed to run over 75 wallets through our Phase 1 route. This route includes the tokenises dApp, Syncswap, which we believe may be airdropping a token later this year. With the introduction of this route, these wallets sit in the top 40% of total wallets. We expect to get them into the top 10% at the start of March just as we have done with Base. With our current pace, we are on track to hit our current target of 500+ wallets ran through our initials routes by the end of the month. \n",
            "SOL DEFI: \n",
            "\n",
            "Jupiter:\n",
            "\n",
            "We now have 85/115  wallets that are active on Jupiter. \n",
            "\n",
            "Margin Fi:\n",
            "\n",
            "Our Margin Fi wallets are doing well - we have managed to rank our active Margin Fi wallets in the top 90,000 already with our looping strategy. We are very confident that, come the eventual Margin Fi drop, we will qualify and get a good allocation. Due to Margin Fi being a liquidity providing protocol, we are limited on the number of wallets that we can farm at any given time. \n",
            "\n",
            "Zeta Markets: \n",
            "\n",
            "With the help of our delta-neutral trading strategy, our active wallets are currently sitting between the top 15,000 - 17,000. \n",
            "\n",
            "Kamino:\n",
            "\n",
            "Our active wallets are comfortably within the top 15% of Kamino users. We have now rotated our capital to the next batch of wallets so these can climb the rankings too. \n",
            "\n",
            "Thank you for reading our first Sunday update! I hope it was informative and provided clarity regarding our operation. \n",
            "```\n",
            "=============\n",
            "The size of tensor a (612) must match the size of tensor b (512) at non-singleton dimension 1\n",
            "Len:  2343\n",
            "=============\n",
            "here's my airdrop farming thread for the foreseeable future:\n",
            "\n",
            "Wormhole Orbiter Bungee DeBridge Jumper Satori Odos Slingshot LayerZero Zora HyperLiquid MarginFI Drift Tensor Jupiter Kamino Parcl Sniper Black Panther Talis Protocol Helix Ninja Blaze Aeroscraper Eigen Layer Flooring Protocol Swell Ether Fi Ekubo Nostra Argent X Starknet Base Cambria Treasure Keplr  MilkyWay New Paradigm Zircuit Eesee Beoble Mocaverse Gomble Forge Gam3s Blue Grass Venom Bags Zksync Scroll Linea Fuel Network Shardeum Altlayer Aptos Omni Network Public Goods Network Aleo polygonzkevm Taiko Arbitrum  Zetachain Logx Shell Protocol Lens Protocol Over Protocol Dymension StarkDefi Helio Starknet ID Debank Zapper Unblocked Shuriken FriendTech layer3 Tabi Magic square Frame nocturne_xyz Zeta Markets Phoenix Exotic Markets Phantom Hyperspace Symmetry Elusivprivacy Mayan Finance Francium Defi Squads Protocol Helius Labs TipLink Armadafi Texture Finance Neptune Finance Ethermail Dmail Holograph ZkLend Kinza Finance Via protocol Chainhop Zerion Bravos Wallet Rainbow Wallet Metamask Taho JediSwap 10k Swap ShardeumSwap SyncSwap \"Syn Futures \" Aevo Shuffle Far Perennial Thetanuts Farcaster INT Capital Ten Protocol Polyhedra Carv Namada Taskon Rebase Izumi GRVT Kontos Gandalf Logarithm Scopescan http://mint/ Fun Apeterminal Merkly Ambit Finance Particle Network HashStack Fuelet Wallet Magic Eden Magpie Protocol Xai Arcane Redstone Earn Network Synonym Redbelly Network Cosmos Ecosystem Blast PrismaFi Republic Subspace Vara Penumbra ZkFair Layerbank Ambient Finance Web3Go BigInt Mangata Backpack Exchange Aries Markets Perps Gator Trade Swap GPT Cvex Quai Webacy Reveel Avnu Fibrous DOP zkLink Butter Sleepless AI Avax Ecosystem http://soundxyz/ SmartLayer Interlock AzuroProtocol STFX Aptos Arena Amnis Finance Orderly network Velvet Capital Kroma Network Caldera Eclipse Snapchain Astria Cosmwasm SkyArk KiloEx DappOS DSCVR1 Rabbithole QnA3 Myshell Earn Alliance Defi Forge StarryNift Alphanomics Morpho Owlto Finance RedBrick Bluefin Privy Derivio TanX Ultiverse Affine Elixir Brine Panoptic Hyperlane Bitscrunch Tangle Andalusia Kinto Deri Protocol Temporal Finance Front Runner Dojo Swap Injex Fi Argus Labs Initia FDN Zeko Labs Plume Network Saga XYZ Movement Labs NuLink Hinkal Babylon Sleek Lootrush Opyn Wildcard Tea protocol Satoshivm Demex PRYZM\n",
            "=============\n",
            "The size of tensor a (536) must match the size of tensor b (512) at non-singleton dimension 1\n",
            "Len:  2389\n",
            "=============\n",
            "handsome brit is killing it:\n",
            "```Hi @CultArtist, I appreciate your concern! However, I can confidently say that failed transactions will not lead to our wallets having a higher chance of being sybilled. Rest assured the wallets will still qualify as we will be hitting airdrop criteria the protocols will be looking for.\n",
            "Hello everyone, I hope you’re all well! Below is our update with our current wallet standings: \n",
            "\n",
            "BASE: \n",
            "\n",
            "I am pleased to announce that we have officially reached sub 10% ranking on 98/115 of your wallets. We are on track to get all of your wallets up to this standard by the end of the month too! We want to get these wallets airdrop ready for you as quickly as possible. \n",
            "\n",
            "The stats for these wallets are as follows:\n",
            "\n",
            "40 transactions (at least)\n",
            "Over 15 contracts\n",
            "+1K Volume\n",
            "3 Liquidity Providing Protocols\n",
            "And of course, 3 active months come March! Arguably the most important metric.\n",
            "\n",
            "\n",
            "Scroll: \n",
            "\n",
            "We have made a solid start with our new Scroll wallets. We managed to run over 75 wallets through our Phase 1 route. This route includes the tokenises dApp, Syncswap, which we believe may be airdropping a token later this year. With the introduction of this route, these wallets sit in the top 40% of total wallets. We expect to get them into the top 10% at the start of March just as we have done with Base. With our current pace, we are on track to hit our current target of 500+ wallets ran through our initials routes by the end of the month. \n",
            "SOL DEFI: \n",
            "\n",
            "Jupiter:\n",
            "\n",
            "We now have 85/115  wallets that are active on Jupiter. \n",
            "\n",
            "Margin Fi:\n",
            "\n",
            "Our Margin Fi wallets are doing well - we have managed to rank our active Margin Fi wallets in the top 90,000 already with our looping strategy. We are very confident that, come the eventual Margin Fi drop, we will qualify and get a good allocation. Due to Margin Fi being a liquidity providing protocol, we are limited on the number of wallets that we can farm at any given time. \n",
            "\n",
            "Zeta Markets: \n",
            "\n",
            "With the help of our delta-neutral trading strategy, our active wallets are currently sitting between the top 15,000 - 17,000. \n",
            "\n",
            "Kamino:\n",
            "\n",
            "Our active wallets are comfortably within the top 15% of Kamino users. We have now rotated our capital to the next batch of wallets so these can climb the rankings too. \n",
            "\n",
            "Thank you for reading our first Sunday update! I hope it was informative and provided clarity regarding our operation. \n",
            "```\n",
            "=============\n",
            "The size of tensor a (580) must match the size of tensor b (512) at non-singleton dimension 1\n",
            "Len:  2574\n",
            "=============\n",
            "Now that I'm rich again, I'm free. \n",
            "\n",
            "I already quit this site in fucking March 2022, when I made millions. Never planned to come back, only lurk on an alt and do a few swing trades. It's hard for me to even put into words how disgusting and pathetic \"CT\" is.\n",
            "\n",
            "Crypto is a pathetic trash \"industry\" for losers, the only purpose to lure other stupid people into buying this ponzi scam. Everyone into \"crypto\" dogshit will lose everything.\n",
            "\n",
            "I genuinely hate every single one of you cocksucking losers, every single one. I have been running up my portfolio extremely hard in the past weeks. I want you to read that and SEETHE. While you get rugged on worthless internet beans, I'm winning every trade. I literally did not lose a trade in 4 months. While you cry about your little shitcoin going down I feel extremely GOOD.\n",
            "\n",
            "I hate every single of you pathetic LOSERS, pathetic geeks hiding behind internet cartoon avatars posting cringe neckbeard content in an internet micro community with 50k people in it thinking that you're famous and important. All of the swine here pretending to be gods of trading while being some random 100 IQ midwit too pathetic to participate in the real world. Supposed \"industry\" thats 99% insider trading and pathetic scams trying to lure in mouthbreather NPC retards to dump on. All the loser CT pico influencers pretending like they're rich and gods of forecasting while they actually lost everything and trade with the latest referral money posting their little memes and partnerships. With their little calls and \"line TA charts\" wrong 99% of the time and based on NOTHING.\n",
            "\n",
            "There are seriously ugly micro jawed imbecile indians here that think they are celebrities because the same 500 nerds like their trash posts. Even fucking organising fight night streams with the same geeks that nobody gives a fuck about. I swear that I could not think of anything more cringeworthy than this site and the people on it if I tried. I swear everyone on this site that has been doxxed is also ugly as fuck, not a coincidence whatsoever. If you can't do anything in the real world, just be an anon cartoon character and LARP 24/7. The most sad part that 99.99% here just make micro money and waste all of their time.\n",
            "\n",
            "Was honestly gonna write more RAGE, but stopped caring midway but I'm going to delete my account now. I do suggest that you retards keep posting your brain damaged micro cephalic thoughts so that I can read them from my alt and make free money countertrading you pathetic swine if I even bother with this crap scam market anymore.\n",
            "\n",
            "K y s\n",
            "=============\n",
            "The size of tensor a (567) must match the size of tensor b (512) at non-singleton dimension 1\n",
            "Len:  1608\n",
            "=============\n",
            "```\n",
            "async function fetchInLoop() {\n",
            "  while (true) {\n",
            "    try {\n",
            "      const response = await fetch(\n",
            "        \"https://www.sekaiglory.com/api/battle/queue\",\n",
            "        {\n",
            "          headers: {\n",
            "            accept: \"*/*\",\n",
            "            \"accept-language\": \"en-US,en;q=0.9,ru-RU;q=0.8,ru;q=0.7\",\n",
            "            \"cache-control\": \"no-cache\",\n",
            "            \"content-type\": \"application/json\",\n",
            "            pragma: \"no-cache\",\n",
            "            \"sec-ch-ua\":\n",
            "              '\"Chromium\";v=\"122\", \"Not(A:Brand\";v=\"24\", \"Google Chrome\";v=\"122\"',\n",
            "            \"sec-ch-ua-mobile\": \"?0\",\n",
            "            \"sec-ch-ua-platform\": '\"Windows\"',\n",
            "            \"sec-fetch-dest\": \"empty\",\n",
            "            \"sec-fetch-mode\": \"cors\",\n",
            "            \"sec-fetch-site\": \"same-origin\",\n",
            "            cookie: `NEXT_LOCALE=en; discord-cb=https%253A%252F%252Fwww.sekaiglory.com%252Fapi%252Fauth%252Fdiscord%252Fcallback; social-privy-token=did%253Aprivy%253Aclu4srbe703xzayesz6lgeqf9; social-prenav-locale=en; privy-session=t; privy-token=${token}; privy-refresh-token=${refresh}`,\n",
            "            Referer: \"https://www.sekaiglory.com/en\",\n",
            "            \"Referrer-Policy\": \"strict-origin-when-cross-origin\",\n",
            "          },\n",
            "          body: null,\n",
            "          method: \"GET\",\n",
            "        }\n",
            "      );\n",
            "      const data = await response.json();\n",
            "      if (data.hasOwnProperty(\"isInQueue\") && data.isInQueue === false) {\n",
            "        gameCount += 1;\n",
            "        logger.info(`Submitting Game ${gameCount} to Queue`);\n",
            "        await submitToQueue();\n",
            "      }\n",
            "    } catch (error) {\n",
            "      logger.error(\"Fetch error:\", error);\n",
            "    }\n",
            "    await new Promise((resolve) => setTimeout(resolve, 10000));\n",
            "  }\n",
            "}\n",
            "\n",
            "fetchInLoop();\n",
            "```\n",
            "=============\n",
            "The size of tensor a (830) must match the size of tensor b (512) at non-singleton dimension 1\n",
            "Len:  828\n",
            "=============\n",
            "............................................................................................................................................................................................................................................................................................................................................................................................................................................................................................................................................................................................................................................................................................................................................................................................................................................................\n",
            "=============\n",
            "The size of tensor a (580) must match the size of tensor b (512) at non-singleton dimension 1\n",
            "Len:  2574\n",
            "=============\n",
            "Now that I'm rich again, I'm free. \n",
            "\n",
            "I already quit this site in fucking March 2022, when I made millions. Never planned to come back, only lurk on an alt and do a few swing trades. It's hard for me to even put into words how disgusting and pathetic \"CT\" is.\n",
            "\n",
            "Crypto is a pathetic trash \"industry\" for losers, the only purpose to lure other stupid people into buying this ponzi scam. Everyone into \"crypto\" dogshit will lose everything.\n",
            "\n",
            "I genuinely hate every single one of you cocksucking losers, every single one. I have been running up my portfolio extremely hard in the past weeks. I want you to read that and SEETHE. While you get rugged on worthless internet beans, I'm winning every trade. I literally did not lose a trade in 4 months. While you cry about your little shitcoin going down I feel extremely GOOD.\n",
            "\n",
            "I hate every single of you pathetic LOSERS, pathetic geeks hiding behind internet cartoon avatars posting cringe neckbeard content in an internet micro community with 50k people in it thinking that you're famous and important. All of the swine here pretending to be gods of trading while being some random 100 IQ midwit too pathetic to participate in the real world. Supposed \"industry\" thats 99% insider trading and pathetic scams trying to lure in mouthbreather NPC retards to dump on. All the loser CT pico influencers pretending like they're rich and gods of forecasting while they actually lost everything and trade with the latest referral money posting their little memes and partnerships. With their little calls and \"line TA charts\" wrong 99% of the time and based on NOTHING.\n",
            "\n",
            "There are seriously ugly micro jawed imbecile indians here that think they are celebrities because the same 500 nerds like their trash posts. Even fucking organising fight night streams with the same geeks that nobody gives a fuck about. I swear that I could not think of anything more cringeworthy than this site and the people on it if I tried. I swear everyone on this site that has been doxxed is also ugly as fuck, not a coincidence whatsoever. If you can't do anything in the real world, just be an anon cartoon character and LARP 24/7. The most sad part that 99.99% here just make micro money and waste all of their time.\n",
            "\n",
            "Was honestly gonna write more RAGE, but stopped caring midway but I'm going to delete my account now. I do suggest that you retards keep posting your brain damaged micro cephalic thoughts so that I can read them from my alt and make free money countertrading you pathetic swine if I even bother with this crap scam market anymore.\n",
            "\n",
            "K y s\n",
            "=============\n",
            "The size of tensor a (612) must match the size of tensor b (512) at non-singleton dimension 1\n",
            "Len:  2343\n",
            "=============\n",
            "here's my airdrop farming thread for the foreseeable future:\n",
            "\n",
            "Wormhole Orbiter Bungee DeBridge Jumper Satori Odos Slingshot LayerZero Zora HyperLiquid MarginFI Drift Tensor Jupiter Kamino Parcl Sniper Black Panther Talis Protocol Helix Ninja Blaze Aeroscraper Eigen Layer Flooring Protocol Swell Ether Fi Ekubo Nostra Argent X Starknet Base Cambria Treasure Keplr  MilkyWay New Paradigm Zircuit Eesee Beoble Mocaverse Gomble Forge Gam3s Blue Grass Venom Bags Zksync Scroll Linea Fuel Network Shardeum Altlayer Aptos Omni Network Public Goods Network Aleo polygonzkevm Taiko Arbitrum  Zetachain Logx Shell Protocol Lens Protocol Over Protocol Dymension StarkDefi Helio Starknet ID Debank Zapper Unblocked Shuriken FriendTech layer3 Tabi Magic square Frame nocturne_xyz Zeta Markets Phoenix Exotic Markets Phantom Hyperspace Symmetry Elusivprivacy Mayan Finance Francium Defi Squads Protocol Helius Labs TipLink Armadafi Texture Finance Neptune Finance Ethermail Dmail Holograph ZkLend Kinza Finance Via protocol Chainhop Zerion Bravos Wallet Rainbow Wallet Metamask Taho JediSwap 10k Swap ShardeumSwap SyncSwap \"Syn Futures \" Aevo Shuffle Far Perennial Thetanuts Farcaster INT Capital Ten Protocol Polyhedra Carv Namada Taskon Rebase Izumi GRVT Kontos Gandalf Logarithm Scopescan http://mint/ Fun Apeterminal Merkly Ambit Finance Particle Network HashStack Fuelet Wallet Magic Eden Magpie Protocol Xai Arcane Redstone Earn Network Synonym Redbelly Network Cosmos Ecosystem Blast PrismaFi Republic Subspace Vara Penumbra ZkFair Layerbank Ambient Finance Web3Go BigInt Mangata Backpack Exchange Aries Markets Perps Gator Trade Swap GPT Cvex Quai Webacy Reveel Avnu Fibrous DOP zkLink Butter Sleepless AI Avax Ecosystem http://soundxyz/ SmartLayer Interlock AzuroProtocol STFX Aptos Arena Amnis Finance Orderly network Velvet Capital Kroma Network Caldera Eclipse Snapchain Astria Cosmwasm SkyArk KiloEx DappOS DSCVR1 Rabbithole QnA3 Myshell Earn Alliance Defi Forge StarryNift Alphanomics Morpho Owlto Finance RedBrick Bluefin Privy Derivio TanX Ultiverse Affine Elixir Brine Panoptic Hyperlane Bitscrunch Tangle Andalusia Kinto Deri Protocol Temporal Finance Front Runner Dojo Swap Injex Fi Argus Labs Initia FDN Zeko Labs Plume Network Saga XYZ Movement Labs NuLink Hinkal Babylon Sleek Lootrush Opyn Wildcard Tea protocol Satoshivm Demex PRYZM\n",
            "=============\n",
            "The size of tensor a (612) must match the size of tensor b (512) at non-singleton dimension 1\n",
            "Len:  2343\n",
            "=============\n",
            "here's my airdrop farming thread for the foreseeable future:\n",
            "\n",
            "Wormhole Orbiter Bungee DeBridge Jumper Satori Odos Slingshot LayerZero Zora HyperLiquid MarginFI Drift Tensor Jupiter Kamino Parcl Sniper Black Panther Talis Protocol Helix Ninja Blaze Aeroscraper Eigen Layer Flooring Protocol Swell Ether Fi Ekubo Nostra Argent X Starknet Base Cambria Treasure Keplr  MilkyWay New Paradigm Zircuit Eesee Beoble Mocaverse Gomble Forge Gam3s Blue Grass Venom Bags Zksync Scroll Linea Fuel Network Shardeum Altlayer Aptos Omni Network Public Goods Network Aleo polygonzkevm Taiko Arbitrum  Zetachain Logx Shell Protocol Lens Protocol Over Protocol Dymension StarkDefi Helio Starknet ID Debank Zapper Unblocked Shuriken FriendTech layer3 Tabi Magic square Frame nocturne_xyz Zeta Markets Phoenix Exotic Markets Phantom Hyperspace Symmetry Elusivprivacy Mayan Finance Francium Defi Squads Protocol Helius Labs TipLink Armadafi Texture Finance Neptune Finance Ethermail Dmail Holograph ZkLend Kinza Finance Via protocol Chainhop Zerion Bravos Wallet Rainbow Wallet Metamask Taho JediSwap 10k Swap ShardeumSwap SyncSwap \"Syn Futures \" Aevo Shuffle Far Perennial Thetanuts Farcaster INT Capital Ten Protocol Polyhedra Carv Namada Taskon Rebase Izumi GRVT Kontos Gandalf Logarithm Scopescan http://mint/ Fun Apeterminal Merkly Ambit Finance Particle Network HashStack Fuelet Wallet Magic Eden Magpie Protocol Xai Arcane Redstone Earn Network Synonym Redbelly Network Cosmos Ecosystem Blast PrismaFi Republic Subspace Vara Penumbra ZkFair Layerbank Ambient Finance Web3Go BigInt Mangata Backpack Exchange Aries Markets Perps Gator Trade Swap GPT Cvex Quai Webacy Reveel Avnu Fibrous DOP zkLink Butter Sleepless AI Avax Ecosystem http://soundxyz/ SmartLayer Interlock AzuroProtocol STFX Aptos Arena Amnis Finance Orderly network Velvet Capital Kroma Network Caldera Eclipse Snapchain Astria Cosmwasm SkyArk KiloEx DappOS DSCVR1 Rabbithole QnA3 Myshell Earn Alliance Defi Forge StarryNift Alphanomics Morpho Owlto Finance RedBrick Bluefin Privy Derivio TanX Ultiverse Affine Elixir Brine Panoptic Hyperlane Bitscrunch Tangle Andalusia Kinto Deri Protocol Temporal Finance Front Runner Dojo Swap Injex Fi Argus Labs Initia FDN Zeko Labs Plume Network Saga XYZ Movement Labs NuLink Hinkal Babylon Sleek Lootrush Opyn Wildcard Tea protocol Satoshivm Demex PRYZM\n",
            "=============\n",
            "The size of tensor a (580) must match the size of tensor b (512) at non-singleton dimension 1\n",
            "Len:  2574\n",
            "=============\n",
            "Now that I'm rich again, I'm free. \n",
            "\n",
            "I already quit this site in fucking March 2022, when I made millions. Never planned to come back, only lurk on an alt and do a few swing trades. It's hard for me to even put into words how disgusting and pathetic \"CT\" is.\n",
            "\n",
            "Crypto is a pathetic trash \"industry\" for losers, the only purpose to lure other stupid people into buying this ponzi scam. Everyone into \"crypto\" dogshit will lose everything.\n",
            "\n",
            "I genuinely hate every single one of you cocksucking losers, every single one. I have been running up my portfolio extremely hard in the past weeks. I want you to read that and SEETHE. While you get rugged on worthless internet beans, I'm winning every trade. I literally did not lose a trade in 4 months. While you cry about your little shitcoin going down I feel extremely GOOD.\n",
            "\n",
            "I hate every single of you pathetic LOSERS, pathetic geeks hiding behind internet cartoon avatars posting cringe neckbeard content in an internet micro community with 50k people in it thinking that you're famous and important. All of the swine here pretending to be gods of trading while being some random 100 IQ midwit too pathetic to participate in the real world. Supposed \"industry\" thats 99% insider trading and pathetic scams trying to lure in mouthbreather NPC retards to dump on. All the loser CT pico influencers pretending like they're rich and gods of forecasting while they actually lost everything and trade with the latest referral money posting their little memes and partnerships. With their little calls and \"line TA charts\" wrong 99% of the time and based on NOTHING.\n",
            "\n",
            "There are seriously ugly micro jawed imbecile indians here that think they are celebrities because the same 500 nerds like their trash posts. Even fucking organising fight night streams with the same geeks that nobody gives a fuck about. I swear that I could not think of anything more cringeworthy than this site and the people on it if I tried. I swear everyone on this site that has been doxxed is also ugly as fuck, not a coincidence whatsoever. If you can't do anything in the real world, just be an anon cartoon character and LARP 24/7. The most sad part that 99.99% here just make micro money and waste all of their time.\n",
            "\n",
            "Was honestly gonna write more RAGE, but stopped caring midway but I'm going to delete my account now. I do suggest that you retards keep posting your brain damaged micro cephalic thoughts so that I can read them from my alt and make free money countertrading you pathetic swine if I even bother with this crap scam market anymore.\n",
            "\n",
            "K y s\n",
            "=============\n",
            "The size of tensor a (737) must match the size of tensor b (512) at non-singleton dimension 1\n",
            "Len:  1329\n",
            "=============\n",
            "<:deadgetogether:1206969943757684786> <:deadgetogether:1206969943757684786> <:deadgetogether:1206969943757684786> <:deadgetogether:1206969943757684786> <:deadgetogether:1206969943757684786> <:deadgetogether:1206969943757684786> <:deadgetogether:1206969943757684786> <:deadgetogether:1206969943757684786> <:deadgetogether:1206969943757684786> <:deadgetogether:1206969943757684786> <:deadgetogether:1206969943757684786> <:deadgetogether:1206969943757684786> <:deadgetogether:1206969943757684786> <:deadgetogether:1206969943757684786> <:deadgetogether:1206969943757684786> <:deadgetogether:1206969943757684786> <:deadgetogether:1206969943757684786> <:deadgetogether:1206969943757684786> <:deadgetogether:1206969943757684786> <:deadgetogether:1206969943757684786> <:deadgetogether:1206969943757684786> <:deadgetogether:1206969943757684786> <:deadgetogether:1206969943757684786> <:deadgetogether:1206969943757684786> <:deadgetogether:1206969943757684786> <:deadgetogether:1206969943757684786> <:deadgetogether:1206969943757684786> <:deadgetogether:1206969943757684786> <:deadgetogether:1206969943757684786> <:deadgetogether:1206969943757684786> <:deadgetogether:1206969943757684786> <:deadgetogether:1206969943757684786> <:deadgetogether:1206969943757684786> <:deadgetogether:1206969943757684786> <:deadgetogether:1206969943757684786>\n",
            "=============\n"
          ]
        },
        {
          "output_type": "error",
          "ename": "KeyboardInterrupt",
          "evalue": "",
          "traceback": [
            "\u001b[0;31m---------------------------------------------------------------------------\u001b[0m",
            "\u001b[0;31mKeyboardInterrupt\u001b[0m                         Traceback (most recent call last)",
            "\u001b[0;32m<ipython-input-14-8d9498a1dee3>\u001b[0m in \u001b[0;36m<cell line: 2>\u001b[0;34m()\u001b[0m\n\u001b[1;32m      1\u001b[0m \u001b[0;31m# Apply prediction using multithreading\u001b[0m\u001b[0;34m\u001b[0m\u001b[0;34m\u001b[0m\u001b[0m\n\u001b[0;32m----> 2\u001b[0;31m \u001b[0mdf\u001b[0m\u001b[0;34m[\u001b[0m\u001b[0;34m'Prediction'\u001b[0m\u001b[0;34m]\u001b[0m \u001b[0;34m=\u001b[0m \u001b[0mapply_predictions_concurrently\u001b[0m\u001b[0;34m(\u001b[0m\u001b[0mdf\u001b[0m\u001b[0;34m[\u001b[0m\u001b[0;34m'message'\u001b[0m\u001b[0;34m]\u001b[0m\u001b[0;34m,\u001b[0m \u001b[0mpredict_message\u001b[0m\u001b[0;34m,\u001b[0m \u001b[0mnum_workers\u001b[0m\u001b[0;34m=\u001b[0m\u001b[0;36m10\u001b[0m\u001b[0;34m)\u001b[0m\u001b[0;34m\u001b[0m\u001b[0;34m\u001b[0m\u001b[0m\n\u001b[0m",
            "\u001b[0;32m<ipython-input-13-dacaafb61c7d>\u001b[0m in \u001b[0;36mapply_predictions_concurrently\u001b[0;34m(data, function, num_workers)\u001b[0m\n\u001b[1;32m      2\u001b[0m \u001b[0;32mdef\u001b[0m \u001b[0mapply_predictions_concurrently\u001b[0m\u001b[0;34m(\u001b[0m\u001b[0mdata\u001b[0m\u001b[0;34m,\u001b[0m \u001b[0mfunction\u001b[0m\u001b[0;34m,\u001b[0m \u001b[0mnum_workers\u001b[0m\u001b[0;34m=\u001b[0m\u001b[0;36m5\u001b[0m\u001b[0;34m)\u001b[0m\u001b[0;34m:\u001b[0m\u001b[0;34m\u001b[0m\u001b[0;34m\u001b[0m\u001b[0m\n\u001b[1;32m      3\u001b[0m     \u001b[0;32mwith\u001b[0m \u001b[0mThreadPoolExecutor\u001b[0m\u001b[0;34m(\u001b[0m\u001b[0mmax_workers\u001b[0m\u001b[0;34m=\u001b[0m\u001b[0mnum_workers\u001b[0m\u001b[0;34m)\u001b[0m \u001b[0;32mas\u001b[0m \u001b[0mexecutor\u001b[0m\u001b[0;34m:\u001b[0m\u001b[0;34m\u001b[0m\u001b[0;34m\u001b[0m\u001b[0m\n\u001b[0;32m----> 4\u001b[0;31m         \u001b[0mresults\u001b[0m \u001b[0;34m=\u001b[0m \u001b[0mlist\u001b[0m\u001b[0;34m(\u001b[0m\u001b[0mexecutor\u001b[0m\u001b[0;34m.\u001b[0m\u001b[0mmap\u001b[0m\u001b[0;34m(\u001b[0m\u001b[0mfunction\u001b[0m\u001b[0;34m,\u001b[0m \u001b[0mdata\u001b[0m\u001b[0;34m)\u001b[0m\u001b[0;34m)\u001b[0m\u001b[0;34m\u001b[0m\u001b[0;34m\u001b[0m\u001b[0m\n\u001b[0m\u001b[1;32m      5\u001b[0m     \u001b[0;32mreturn\u001b[0m \u001b[0mresults\u001b[0m\u001b[0;34m\u001b[0m\u001b[0;34m\u001b[0m\u001b[0m\n",
            "\u001b[0;32m/usr/lib/python3.10/concurrent/futures/_base.py\u001b[0m in \u001b[0;36mresult_iterator\u001b[0;34m()\u001b[0m\n\u001b[1;32m    619\u001b[0m                     \u001b[0;31m# Careful not to keep a reference to the popped future\u001b[0m\u001b[0;34m\u001b[0m\u001b[0;34m\u001b[0m\u001b[0m\n\u001b[1;32m    620\u001b[0m                     \u001b[0;32mif\u001b[0m \u001b[0mtimeout\u001b[0m \u001b[0;32mis\u001b[0m \u001b[0;32mNone\u001b[0m\u001b[0;34m:\u001b[0m\u001b[0;34m\u001b[0m\u001b[0;34m\u001b[0m\u001b[0m\n\u001b[0;32m--> 621\u001b[0;31m                         \u001b[0;32myield\u001b[0m \u001b[0m_result_or_cancel\u001b[0m\u001b[0;34m(\u001b[0m\u001b[0mfs\u001b[0m\u001b[0;34m.\u001b[0m\u001b[0mpop\u001b[0m\u001b[0;34m(\u001b[0m\u001b[0;34m)\u001b[0m\u001b[0;34m)\u001b[0m\u001b[0;34m\u001b[0m\u001b[0;34m\u001b[0m\u001b[0m\n\u001b[0m\u001b[1;32m    622\u001b[0m                     \u001b[0;32melse\u001b[0m\u001b[0;34m:\u001b[0m\u001b[0;34m\u001b[0m\u001b[0;34m\u001b[0m\u001b[0m\n\u001b[1;32m    623\u001b[0m                         \u001b[0;32myield\u001b[0m \u001b[0m_result_or_cancel\u001b[0m\u001b[0;34m(\u001b[0m\u001b[0mfs\u001b[0m\u001b[0;34m.\u001b[0m\u001b[0mpop\u001b[0m\u001b[0;34m(\u001b[0m\u001b[0;34m)\u001b[0m\u001b[0;34m,\u001b[0m \u001b[0mend_time\u001b[0m \u001b[0;34m-\u001b[0m \u001b[0mtime\u001b[0m\u001b[0;34m.\u001b[0m\u001b[0mmonotonic\u001b[0m\u001b[0;34m(\u001b[0m\u001b[0;34m)\u001b[0m\u001b[0;34m)\u001b[0m\u001b[0;34m\u001b[0m\u001b[0;34m\u001b[0m\u001b[0m\n",
            "\u001b[0;32m/usr/lib/python3.10/concurrent/futures/_base.py\u001b[0m in \u001b[0;36m_result_or_cancel\u001b[0;34m(***failed resolving arguments***)\u001b[0m\n\u001b[1;32m    317\u001b[0m     \u001b[0;32mtry\u001b[0m\u001b[0;34m:\u001b[0m\u001b[0;34m\u001b[0m\u001b[0;34m\u001b[0m\u001b[0m\n\u001b[1;32m    318\u001b[0m         \u001b[0;32mtry\u001b[0m\u001b[0;34m:\u001b[0m\u001b[0;34m\u001b[0m\u001b[0;34m\u001b[0m\u001b[0m\n\u001b[0;32m--> 319\u001b[0;31m             \u001b[0;32mreturn\u001b[0m \u001b[0mfut\u001b[0m\u001b[0;34m.\u001b[0m\u001b[0mresult\u001b[0m\u001b[0;34m(\u001b[0m\u001b[0mtimeout\u001b[0m\u001b[0;34m)\u001b[0m\u001b[0;34m\u001b[0m\u001b[0;34m\u001b[0m\u001b[0m\n\u001b[0m\u001b[1;32m    320\u001b[0m         \u001b[0;32mfinally\u001b[0m\u001b[0;34m:\u001b[0m\u001b[0;34m\u001b[0m\u001b[0;34m\u001b[0m\u001b[0m\n\u001b[1;32m    321\u001b[0m             \u001b[0mfut\u001b[0m\u001b[0;34m.\u001b[0m\u001b[0mcancel\u001b[0m\u001b[0;34m(\u001b[0m\u001b[0;34m)\u001b[0m\u001b[0;34m\u001b[0m\u001b[0;34m\u001b[0m\u001b[0m\n",
            "\u001b[0;32m/usr/lib/python3.10/concurrent/futures/_base.py\u001b[0m in \u001b[0;36mresult\u001b[0;34m(self, timeout)\u001b[0m\n\u001b[1;32m    451\u001b[0m                     \u001b[0;32mreturn\u001b[0m \u001b[0mself\u001b[0m\u001b[0;34m.\u001b[0m\u001b[0m__get_result\u001b[0m\u001b[0;34m(\u001b[0m\u001b[0;34m)\u001b[0m\u001b[0;34m\u001b[0m\u001b[0;34m\u001b[0m\u001b[0m\n\u001b[1;32m    452\u001b[0m \u001b[0;34m\u001b[0m\u001b[0m\n\u001b[0;32m--> 453\u001b[0;31m                 \u001b[0mself\u001b[0m\u001b[0;34m.\u001b[0m\u001b[0m_condition\u001b[0m\u001b[0;34m.\u001b[0m\u001b[0mwait\u001b[0m\u001b[0;34m(\u001b[0m\u001b[0mtimeout\u001b[0m\u001b[0;34m)\u001b[0m\u001b[0;34m\u001b[0m\u001b[0;34m\u001b[0m\u001b[0m\n\u001b[0m\u001b[1;32m    454\u001b[0m \u001b[0;34m\u001b[0m\u001b[0m\n\u001b[1;32m    455\u001b[0m                 \u001b[0;32mif\u001b[0m \u001b[0mself\u001b[0m\u001b[0;34m.\u001b[0m\u001b[0m_state\u001b[0m \u001b[0;32min\u001b[0m \u001b[0;34m[\u001b[0m\u001b[0mCANCELLED\u001b[0m\u001b[0;34m,\u001b[0m \u001b[0mCANCELLED_AND_NOTIFIED\u001b[0m\u001b[0;34m]\u001b[0m\u001b[0;34m:\u001b[0m\u001b[0;34m\u001b[0m\u001b[0;34m\u001b[0m\u001b[0m\n",
            "\u001b[0;32m/usr/lib/python3.10/threading.py\u001b[0m in \u001b[0;36mwait\u001b[0;34m(self, timeout)\u001b[0m\n\u001b[1;32m    318\u001b[0m         \u001b[0;32mtry\u001b[0m\u001b[0;34m:\u001b[0m    \u001b[0;31m# restore state no matter what (e.g., KeyboardInterrupt)\u001b[0m\u001b[0;34m\u001b[0m\u001b[0;34m\u001b[0m\u001b[0m\n\u001b[1;32m    319\u001b[0m             \u001b[0;32mif\u001b[0m \u001b[0mtimeout\u001b[0m \u001b[0;32mis\u001b[0m \u001b[0;32mNone\u001b[0m\u001b[0;34m:\u001b[0m\u001b[0;34m\u001b[0m\u001b[0;34m\u001b[0m\u001b[0m\n\u001b[0;32m--> 320\u001b[0;31m                 \u001b[0mwaiter\u001b[0m\u001b[0;34m.\u001b[0m\u001b[0macquire\u001b[0m\u001b[0;34m(\u001b[0m\u001b[0;34m)\u001b[0m\u001b[0;34m\u001b[0m\u001b[0;34m\u001b[0m\u001b[0m\n\u001b[0m\u001b[1;32m    321\u001b[0m                 \u001b[0mgotit\u001b[0m \u001b[0;34m=\u001b[0m \u001b[0;32mTrue\u001b[0m\u001b[0;34m\u001b[0m\u001b[0;34m\u001b[0m\u001b[0m\n\u001b[1;32m    322\u001b[0m             \u001b[0;32melse\u001b[0m\u001b[0;34m:\u001b[0m\u001b[0;34m\u001b[0m\u001b[0;34m\u001b[0m\u001b[0m\n",
            "\u001b[0;31mKeyboardInterrupt\u001b[0m: "
          ]
        }
      ]
    },
    {
      "cell_type": "code",
      "source": [
        "# Split data\n",
        "spam_df = df[df['Prediction'] == 'Spam']\n",
        "not_spam_df = df[df['Prediction'] == 'Not Spam']"
      ],
      "metadata": {
        "id": "iAzLVzd39LEn"
      },
      "execution_count": null,
      "outputs": []
    },
    {
      "cell_type": "code",
      "source": [
        "# Save to CSV\n",
        "spam_df.to_csv('/content/drive/My Drive/pnyx/data/spam_messages.csv', index=False)\n",
        "not_spam_df.to_csv('/content/drive/My Drive/pnyx/data/not_spam_messages.csv', index=False)"
      ],
      "metadata": {
        "id": "fkxnRaFM9OLH"
      },
      "execution_count": null,
      "outputs": []
    },
    {
      "cell_type": "code",
      "source": [
        "print(counter)"
      ],
      "metadata": {
        "colab": {
          "base_uri": "https://localhost:8080/"
        },
        "id": "bHRsJ2jmBuif",
        "outputId": "7a7f562c-9b5c-493b-8b9f-d2d633c85f07"
      },
      "execution_count": null,
      "outputs": [
        {
          "output_type": "stream",
          "name": "stdout",
          "text": [
            "0\n"
          ]
        }
      ]
    },
    {
      "cell_type": "code",
      "source": [
        "print(len(df))"
      ],
      "metadata": {
        "colab": {
          "base_uri": "https://localhost:8080/"
        },
        "id": "XYO6_eG4Bw9v",
        "outputId": "c07f68fe-2c5e-4147-cae2-8da0513fc004"
      },
      "execution_count": null,
      "outputs": [
        {
          "output_type": "stream",
          "name": "stdout",
          "text": [
            "144390\n"
          ]
        }
      ]
    },
    {
      "cell_type": "code",
      "source": [
        "print(len(spam_df))"
      ],
      "metadata": {
        "colab": {
          "base_uri": "https://localhost:8080/"
        },
        "id": "2HX40oneB1Nu",
        "outputId": "6a3e6ab0-7f97-4320-cd0c-05a5eb1ad635"
      },
      "execution_count": null,
      "outputs": [
        {
          "output_type": "stream",
          "name": "stdout",
          "text": [
            "13466\n"
          ]
        }
      ]
    },
    {
      "cell_type": "code",
      "source": [
        "print(len(not_spam_df))"
      ],
      "metadata": {
        "colab": {
          "base_uri": "https://localhost:8080/"
        },
        "id": "ajzGtZPjdgGQ",
        "outputId": "f71be5be-135d-4068-a1d4-78a1e3b317f6"
      },
      "execution_count": null,
      "outputs": [
        {
          "output_type": "stream",
          "name": "stdout",
          "text": [
            "130924\n"
          ]
        }
      ]
    },
    {
      "cell_type": "code",
      "source": [],
      "metadata": {
        "id": "PQl4RIDsdl0c"
      },
      "execution_count": null,
      "outputs": []
    }
  ]
}