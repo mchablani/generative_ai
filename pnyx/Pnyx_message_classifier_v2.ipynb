{
  "nbformat": 4,
  "nbformat_minor": 0,
  "metadata": {
    "colab": {
      "provenance": [],
      "gpuType": "T4",
      "authorship_tag": "ABX9TyP4wlJnHV94RcIsj8zkbvBh",
      "include_colab_link": true
    },
    "kernelspec": {
      "name": "python3",
      "display_name": "Python 3"
    },
    "language_info": {
      "name": "python"
    },
    "accelerator": "GPU"
  },
  "cells": [
    {
      "cell_type": "markdown",
      "metadata": {
        "id": "view-in-github",
        "colab_type": "text"
      },
      "source": [
        "<a href=\"https://colab.research.google.com/github/mchablani/generative_ai/blob/main/pnyx/Pnyx_message_classifier_v2.ipynb\" target=\"_parent\"><img src=\"https://colab.research.google.com/assets/colab-badge.svg\" alt=\"Open In Colab\"/></a>"
      ]
    },
    {
      "cell_type": "code",
      "execution_count": null,
      "metadata": {
        "colab": {
          "base_uri": "https://localhost:8080/"
        },
        "id": "c_OBkChQ1YfT",
        "outputId": "4e9d53bf-1330-4034-ebab-ee6d92a17d66"
      },
      "outputs": [
        {
          "output_type": "stream",
          "name": "stdout",
          "text": [
            "Drive already mounted at /content/drive; to attempt to forcibly remount, call drive.mount(\"/content/drive\", force_remount=True).\n"
          ]
        }
      ],
      "source": [
        "import pandas as pd\n",
        "\n",
        "# Mount your Google Drive\n",
        "from google.colab import drive\n",
        "drive.mount('/content/drive')\n",
        "\n"
      ]
    },
    {
      "cell_type": "code",
      "source": [
        "# Read the CSV file from Google Drive\n",
        "filename = '/content/drive/My Drive/pnyx/data/messages.csv'\n",
        "df = pd.read_csv(filename)\n",
        "\n",
        "# Print the DataFrame\n",
        "print(df[\"message\"].head(10))\n"
      ],
      "metadata": {
        "colab": {
          "base_uri": "https://localhost:8080/"
        },
        "id": "LSATUub339Pu",
        "outputId": "c4823093-e900-48b8-dec9-59f4abc45a98"
      },
      "execution_count": null,
      "outputs": [
        {
          "output_type": "stream",
          "name": "stdout",
          "text": [
            "0                   what u think all the guns is foooo\n",
            "1                    u need to get your prios straight\n",
            "2                      I got normies saying butti only\n",
            "3                         Should we get on retail wow?\n",
            "4                         Apparently 3s is really good\n",
            "5    And you know I’m not toxic at all or anything ...\n",
            "6                    <a:goldenkek:1175176571812839465>\n",
            "7                                       absolutely not\n",
            "8                                         it aint good\n",
            "9                          What are u playing rn? Sod?\n",
            "Name: message, dtype: object\n"
          ]
        }
      ]
    },
    {
      "cell_type": "code",
      "source": [
        "# Ensure all messages are strings\n",
        "df['message'] = df['message'].astype(str)"
      ],
      "metadata": {
        "id": "R0ZO7h09-v5o"
      },
      "execution_count": null,
      "outputs": []
    },
    {
      "cell_type": "code",
      "source": [
        "from transformers import pipeline, BertTokenizer, BertForSequenceClassification\n",
        "from concurrent.futures import ThreadPoolExecutor\n"
      ],
      "metadata": {
        "id": "DoN6HHmO6kdw"
      },
      "execution_count": null,
      "outputs": []
    },
    {
      "cell_type": "code",
      "source": [
        "classifier = pipeline(\"text-classification\", model=\"mrm8488/bert-tiny-finetuned-sms-spam-detection\", device=0)"
      ],
      "metadata": {
        "colab": {
          "base_uri": "https://localhost:8080/"
        },
        "id": "n0vlMjcc4270",
        "outputId": "58eba44f-ce64-4d01-ac5a-3e3a178d062d"
      },
      "execution_count": null,
      "outputs": [
        {
          "output_type": "stream",
          "name": "stderr",
          "text": [
            "/usr/local/lib/python3.10/dist-packages/huggingface_hub/utils/_token.py:89: UserWarning: \n",
            "The secret `HF_TOKEN` does not exist in your Colab secrets.\n",
            "To authenticate with the Hugging Face Hub, create a token in your settings tab (https://huggingface.co/settings/tokens), set it as secret in your Google Colab and restart your session.\n",
            "You will be able to reuse this secret in all of your notebooks.\n",
            "Please note that authentication is recommended but still optional to access public models or datasets.\n",
            "  warnings.warn(\n"
          ]
        }
      ]
    },
    {
      "cell_type": "code",
      "source": [
        "tokenizer = BertTokenizer.from_pretrained(\"mrm8488/bert-tiny-finetuned-sms-spam-detection\")\n"
      ],
      "metadata": {
        "id": "bT79zYgP-AM8"
      },
      "execution_count": null,
      "outputs": []
    },
    {
      "cell_type": "code",
      "source": [
        "device = torch.device(\"cuda\" if torch.cuda.is_available() else \"cpu\")\n"
      ],
      "metadata": {
        "id": "YGJR9ao_a3sp"
      },
      "execution_count": null,
      "outputs": []
    },
    {
      "cell_type": "code",
      "source": [
        "model = BertForSequenceClassification.from_pretrained(\"mrm8488/bert-tiny-finetuned-sms-spam-detection\")\n",
        "model.to(device)\n"
      ],
      "metadata": {
        "colab": {
          "base_uri": "https://localhost:8080/"
        },
        "id": "97ZxcAvVaaQk",
        "outputId": "4c0734d0-1203-449e-a6e2-226527899cbd"
      },
      "execution_count": null,
      "outputs": [
        {
          "output_type": "execute_result",
          "data": {
            "text/plain": [
              "BertForSequenceClassification(\n",
              "  (bert): BertModel(\n",
              "    (embeddings): BertEmbeddings(\n",
              "      (word_embeddings): Embedding(30522, 128, padding_idx=0)\n",
              "      (position_embeddings): Embedding(512, 128)\n",
              "      (token_type_embeddings): Embedding(2, 128)\n",
              "      (LayerNorm): LayerNorm((128,), eps=1e-12, elementwise_affine=True)\n",
              "      (dropout): Dropout(p=0.1, inplace=False)\n",
              "    )\n",
              "    (encoder): BertEncoder(\n",
              "      (layer): ModuleList(\n",
              "        (0-1): 2 x BertLayer(\n",
              "          (attention): BertAttention(\n",
              "            (self): BertSdpaSelfAttention(\n",
              "              (query): Linear(in_features=128, out_features=128, bias=True)\n",
              "              (key): Linear(in_features=128, out_features=128, bias=True)\n",
              "              (value): Linear(in_features=128, out_features=128, bias=True)\n",
              "              (dropout): Dropout(p=0.1, inplace=False)\n",
              "            )\n",
              "            (output): BertSelfOutput(\n",
              "              (dense): Linear(in_features=128, out_features=128, bias=True)\n",
              "              (LayerNorm): LayerNorm((128,), eps=1e-12, elementwise_affine=True)\n",
              "              (dropout): Dropout(p=0.1, inplace=False)\n",
              "            )\n",
              "          )\n",
              "          (intermediate): BertIntermediate(\n",
              "            (dense): Linear(in_features=128, out_features=512, bias=True)\n",
              "            (intermediate_act_fn): GELUActivation()\n",
              "          )\n",
              "          (output): BertOutput(\n",
              "            (dense): Linear(in_features=512, out_features=128, bias=True)\n",
              "            (LayerNorm): LayerNorm((128,), eps=1e-12, elementwise_affine=True)\n",
              "            (dropout): Dropout(p=0.1, inplace=False)\n",
              "          )\n",
              "        )\n",
              "      )\n",
              "    )\n",
              "    (pooler): BertPooler(\n",
              "      (dense): Linear(in_features=128, out_features=128, bias=True)\n",
              "      (activation): Tanh()\n",
              "    )\n",
              "  )\n",
              "  (dropout): Dropout(p=0.1, inplace=False)\n",
              "  (classifier): Linear(in_features=128, out_features=2, bias=True)\n",
              ")"
            ]
          },
          "metadata": {},
          "execution_count": 31
        }
      ]
    },
    {
      "cell_type": "code",
      "source": [
        "import threading\n",
        "import torch\n",
        "\n",
        "counter_lock = threading.Lock()\n",
        "counter = 0\n",
        "\n",
        "# Prediction function\n",
        "def predict_message(message):\n",
        "    global counter\n",
        "\n",
        "    try:\n",
        "      inputs = tokenizer.encode(message, return_tensors=\"pt\", max_length=512, truncation=True)\n",
        "      # Move tensors to GPU if available\n",
        "      inputs = inputs.to('cuda')\n",
        "      with torch.no_grad():\n",
        "          outputs = model(inputs)\n",
        "      # Get prediction scores\n",
        "      logits = outputs.logits\n",
        "\n",
        "      # Convert logits to probabilities and labels\n",
        "      probs = torch.softmax(logits, dim=1)\n",
        "      predictions = torch.argmax(probs, dim=1)\n",
        "      # Decode prediction\n",
        "      label = classifier.model.config.id2label[predictions.item()]\n",
        "\n",
        "      # result = classifier(message)\n",
        "      # return \"Spam\" if result[0]['label'] == 'LABEL_1' else \"Not Spam\"\n",
        "      return \"Spam\" if label == 'LABEL_1' else \"Not Spam\"\n",
        "\n",
        "    except Exception as e:\n",
        "        print(e)\n",
        "        with counter_lock:\n",
        "            counter += 1\n",
        "        print(\"=============\")\n",
        "        print(message)\n",
        "        print(\"=============\")\n",
        "        return \"Spam\""
      ],
      "metadata": {
        "id": "pJPGCxkM6rGv"
      },
      "execution_count": null,
      "outputs": []
    },
    {
      "cell_type": "code",
      "source": [
        "print(predict_message(\"And you know I’m not toxic at all or anything ...\"))"
      ],
      "metadata": {
        "colab": {
          "base_uri": "https://localhost:8080/"
        },
        "id": "Ts4X2o9oVPjI",
        "outputId": "90840a9f-0040-4b72-dd6c-3bb745aee52b"
      },
      "execution_count": null,
      "outputs": [
        {
          "output_type": "stream",
          "name": "stdout",
          "text": [
            "Not Spam\n"
          ]
        }
      ]
    },
    {
      "cell_type": "code",
      "source": [
        "print(type(df['message'].tolist()))"
      ],
      "metadata": {
        "colab": {
          "base_uri": "https://localhost:8080/"
        },
        "id": "PnGB1gmeVrK7",
        "outputId": "731f4d5d-c9fc-4019-df3c-4008e4060869"
      },
      "execution_count": null,
      "outputs": [
        {
          "output_type": "stream",
          "name": "stdout",
          "text": [
            "<class 'list'>\n"
          ]
        }
      ]
    },
    {
      "cell_type": "code",
      "source": [
        "message_list = df['message'].tolist()"
      ],
      "metadata": {
        "id": "g5DQbVj5Wix7"
      },
      "execution_count": null,
      "outputs": []
    },
    {
      "cell_type": "code",
      "source": [],
      "metadata": {
        "id": "7j0Gx-HLWVOk"
      },
      "execution_count": null,
      "outputs": []
    },
    {
      "cell_type": "code",
      "source": [
        "# Function to apply predictions using multithreading\n",
        "def apply_predictions_concurrently(data, function, num_workers=5):\n",
        "    with ThreadPoolExecutor(max_workers=num_workers) as executor:\n",
        "        results = list(executor.map(function, data))\n",
        "    return results"
      ],
      "metadata": {
        "id": "AZI_80ua6zjG"
      },
      "execution_count": null,
      "outputs": []
    },
    {
      "cell_type": "code",
      "source": [
        "# Apply prediction using multithreading\n",
        "df['Prediction'] = apply_predictions_concurrently(df['message'], predict_message, num_workers=10)"
      ],
      "metadata": {
        "id": "xGvUNfGB8KwG"
      },
      "execution_count": null,
      "outputs": []
    },
    {
      "cell_type": "code",
      "source": [
        "# Split data\n",
        "spam_df = df[df['Prediction'] == 'Spam']\n",
        "not_spam_df = df[df['Prediction'] == 'Not Spam']"
      ],
      "metadata": {
        "id": "iAzLVzd39LEn"
      },
      "execution_count": null,
      "outputs": []
    },
    {
      "cell_type": "code",
      "source": [
        "# Save to CSV\n",
        "spam_df.to_csv('/content/drive/My Drive/pnyx/data/spam_messages.csv', index=False)\n",
        "not_spam_df.to_csv('/content/drive/My Drive/pnyx/data/not_spam_messages.csv', index=False)"
      ],
      "metadata": {
        "id": "fkxnRaFM9OLH"
      },
      "execution_count": null,
      "outputs": []
    },
    {
      "cell_type": "code",
      "source": [
        "print(counter)"
      ],
      "metadata": {
        "colab": {
          "base_uri": "https://localhost:8080/"
        },
        "id": "bHRsJ2jmBuif",
        "outputId": "7a7f562c-9b5c-493b-8b9f-d2d633c85f07"
      },
      "execution_count": null,
      "outputs": [
        {
          "output_type": "stream",
          "name": "stdout",
          "text": [
            "0\n"
          ]
        }
      ]
    },
    {
      "cell_type": "code",
      "source": [
        "print(len(df))"
      ],
      "metadata": {
        "colab": {
          "base_uri": "https://localhost:8080/"
        },
        "id": "XYO6_eG4Bw9v",
        "outputId": "c07f68fe-2c5e-4147-cae2-8da0513fc004"
      },
      "execution_count": null,
      "outputs": [
        {
          "output_type": "stream",
          "name": "stdout",
          "text": [
            "144390\n"
          ]
        }
      ]
    },
    {
      "cell_type": "code",
      "source": [
        "print(len(spam_df))"
      ],
      "metadata": {
        "colab": {
          "base_uri": "https://localhost:8080/"
        },
        "id": "2HX40oneB1Nu",
        "outputId": "6a3e6ab0-7f97-4320-cd0c-05a5eb1ad635"
      },
      "execution_count": null,
      "outputs": [
        {
          "output_type": "stream",
          "name": "stdout",
          "text": [
            "13466\n"
          ]
        }
      ]
    },
    {
      "cell_type": "code",
      "source": [
        "print(len(not_spam_df))"
      ],
      "metadata": {
        "colab": {
          "base_uri": "https://localhost:8080/"
        },
        "id": "ajzGtZPjdgGQ",
        "outputId": "f71be5be-135d-4068-a1d4-78a1e3b317f6"
      },
      "execution_count": null,
      "outputs": [
        {
          "output_type": "stream",
          "name": "stdout",
          "text": [
            "130924\n"
          ]
        }
      ]
    },
    {
      "cell_type": "code",
      "source": [],
      "metadata": {
        "id": "PQl4RIDsdl0c"
      },
      "execution_count": null,
      "outputs": []
    }
  ]
}