{
  "cells": [
    {
      "cell_type": "markdown",
      "metadata": {
        "id": "view-in-github",
        "colab_type": "text"
      },
      "source": [
        "<a href=\"https://colab.research.google.com/github/mchablani/generative_ai/blob/main/stable_diffusion_experiments.ipynb\" target=\"_parent\"><img src=\"https://colab.research.google.com/assets/colab-badge.svg\" alt=\"Open In Colab\"/></a>"
      ]
    },
    {
      "cell_type": "markdown",
      "metadata": {
        "id": "5Zm4MYhvLhcM"
      },
      "source": [
        "# Stable Diffusion with 🤗 Diffusers"
      ]
    },
    {
      "cell_type": "markdown",
      "metadata": {
        "id": "knQLd4YyLhcV"
      },
      "source": [
        "This notebook introduces Stable Diffusion, the highest-quality open source text to image model as of now. It's also small enough to run in consumer GPUs rather than in a datacenter. It uses the 🤗 Hugging Face [🧨 Diffusers library](https://github.com/huggingface/diffusers).\n",
        "\n",
        "_If you open this notebook in Colab, or if you get type errors when generating your first image, please uncomment and run the following cell._"
      ]
    },
    {
      "cell_type": "code",
      "execution_count": null,
      "metadata": {
        "id": "N_R-W5D3LhcV"
      },
      "outputs": [],
      "source": [
        "!pip install -Uq diffusers transformers fastcore"
      ]
    },
    {
      "cell_type": "code",
      "source": [
        "from google.colab import drive\n",
        "drive.mount(\"/content/gdrive\")"
      ],
      "metadata": {
        "id": "xO2c3Vd9VNa_"
      },
      "execution_count": null,
      "outputs": []
    },
    {
      "cell_type": "code",
      "source": [
        "! pwd"
      ],
      "metadata": {
        "id": "cYdDF6-sp58Z"
      },
      "execution_count": null,
      "outputs": []
    },
    {
      "cell_type": "code",
      "source": [],
      "metadata": {
        "id": "1JWVioflqfFo"
      },
      "execution_count": null,
      "outputs": []
    },
    {
      "cell_type": "code",
      "source": [
        "! mkdir \"/root/.huggingface\""
      ],
      "metadata": {
        "id": "apN4BLHUqL1Z"
      },
      "execution_count": null,
      "outputs": []
    },
    {
      "cell_type": "code",
      "source": [
        "! cp \"gdrive/MyDrive/.huggingface/token\" /root/.huggingface/token"
      ],
      "metadata": {
        "id": "i6C4htfpVxEG"
      },
      "execution_count": null,
      "outputs": []
    },
    {
      "cell_type": "code",
      "source": [],
      "metadata": {
        "id": "LrTbirs9qXjD"
      },
      "execution_count": null,
      "outputs": []
    },
    {
      "cell_type": "markdown",
      "metadata": {
        "id": "FtLD3dI9LhcW"
      },
      "source": [
        "## Using Stable Diffusion"
      ]
    },
    {
      "cell_type": "markdown",
      "metadata": {
        "id": "vlut4_y2LhcW"
      },
      "source": [
        "To run Stable Diffusion on your computer you have to accept the model license. It's an open CreativeML OpenRail-M license that claims no rights on the outputs you generate and prohibits you from deliberately producing illegal or harmful content. The [model card](https://huggingface.co/CompVis/stable-diffusion-v1-4) provides more details. If you do accept the license, you need to be a registered user in 🤗 Hugging Face Hub and use an access token for the code to work. You have two options to provide your access token:\n",
        "\n",
        "* Use the `huggingface-cli login` command-line tool in your terminal and paste your token when prompted. It will be saved in a file in your computer.\n",
        "* Or use `notebook_login()` in a notebook, which does the same thing."
      ]
    },
    {
      "cell_type": "code",
      "execution_count": null,
      "metadata": {
        "id": "MECbPOffLhcX"
      },
      "outputs": [],
      "source": [
        "import logging\n",
        "from pathlib import Path\n",
        "\n",
        "import matplotlib.pyplot as plt\n",
        "import torch\n",
        "from diffusers import StableDiffusionPipeline\n",
        "from fastcore.all import concat\n",
        "from huggingface_hub import notebook_login\n",
        "from PIL import Image\n",
        "\n",
        "logging.disable(logging.WARNING)\n",
        "\n",
        "torch.manual_seed(1)\n",
        "if not (Path.home()/'.huggingface'/'token').exists(): notebook_login()"
      ]
    },
    {
      "cell_type": "code",
      "source": [
        "# print(Path.home())"
      ],
      "metadata": {
        "id": "wdsB5iQP0kpk"
      },
      "execution_count": null,
      "outputs": []
    },
    {
      "cell_type": "markdown",
      "metadata": {
        "id": "mIO0Z2MOLhcX"
      },
      "source": [
        "### Stable Diffusion Pipeline"
      ]
    },
    {
      "cell_type": "markdown",
      "metadata": {
        "id": "uhgpsBZ4LhcX"
      },
      "source": [
        "We use [`from_pretrained`](https://huggingface.co/docs/diffusers/main/en/api/diffusion_pipeline#diffusers.DiffusionPipeline.from_pretrained) to create the pipeline and download the pretrained weights. We indicate that we want to use the `fp16` (half-precision) version of the weights, and we tell `diffusers` to expect the weights in that format. This allows us to perform much faster inference with almost no discernible difference in quality. The string passed to `from_pretrained` in this case (`CompVis/stable-diffusion-v1-4`) is the repo id of a pretrained pipeline hosted on [Hugging Face Hub](https://huggingface.co/models); it can also be a path to a directory containing pipeline weights. The weights for all the models in the pipeline will be downloaded and cached the first time you run this cell."
      ]
    },
    {
      "cell_type": "code",
      "execution_count": null,
      "metadata": {
        "id": "KjSl4jDhLhcY"
      },
      "outputs": [],
      "source": [
        "pipe = StableDiffusionPipeline.from_pretrained(\"CompVis/stable-diffusion-v1-4\", revision=\"fp16\", torch_dtype=torch.float16).to(\"cuda\")"
      ]
    },
    {
      "cell_type": "markdown",
      "metadata": {
        "id": "Xq8unP2pLhcZ"
      },
      "source": [
        "The weights are cached in your home directory by default."
      ]
    },
    {
      "cell_type": "code",
      "execution_count": null,
      "metadata": {
        "id": "P8TMv5OBLhcZ"
      },
      "outputs": [],
      "source": [
        "!ls ~/.cache/huggingface/hub"
      ]
    },
    {
      "cell_type": "markdown",
      "metadata": {
        "id": "-1SpCxERLhcZ"
      },
      "source": [
        "We are now ready to use the pipeline to start creating images."
      ]
    },
    {
      "cell_type": "markdown",
      "metadata": {
        "id": "Ds352QssLhca"
      },
      "source": [
        "If your GPU is not big enough to use `pipe`, run `pipe.enable_attention_slicing()`  \n",
        "As described in the docs:  \n",
        "> When this option is enabled, the attention module will split the input tensor in slices, to compute attention in several steps. This is useful to save some memory in exchange for a small speed decrease."
      ]
    },
    {
      "cell_type": "code",
      "execution_count": null,
      "metadata": {
        "id": "3mlTsgl5Lhca"
      },
      "outputs": [],
      "source": [
        "#pipe.enable_attention_slicing()"
      ]
    },
    {
      "cell_type": "code",
      "execution_count": null,
      "metadata": {
        "id": "1oe4ZXdxLhca"
      },
      "outputs": [],
      "source": [
        "prompt = \"a photograph of an owl on a tree under a full moon\""
      ]
    },
    {
      "cell_type": "code",
      "execution_count": null,
      "metadata": {
        "id": "FGnZfehNLhca"
      },
      "outputs": [],
      "source": [
        "pipe(prompt).images[0]"
      ]
    },
    {
      "cell_type": "code",
      "execution_count": null,
      "metadata": {
        "id": "aGWm_MhiLhca"
      },
      "outputs": [],
      "source": [
        "torch.manual_seed(124)\n",
        "res = pipe(prompt)\n",
        "print(\"Num results: \", len(res.images))\n",
        "res.images[0]"
      ]
    },
    {
      "cell_type": "markdown",
      "metadata": {
        "id": "a54w0w_8Lhcb"
      },
      "source": [
        "You will have noticed that running the pipeline shows a progress bar with a certain number of steps. This is because Stable Diffusion is based on a progressive denoising algorithm that is able to create a convincing image starting from pure random noise. Models in this family are known as _diffusion models_. Here's an example of the process (from random noise at top to progressively improved images towards the bottom) of a model drawing handwritten digits, which we'll build from scratch ourselves later in the course."
      ]
    },
    {
      "cell_type": "markdown",
      "metadata": {
        "id": "3TYgJV-MLhcb"
      },
      "source": [
        "![image.png](attachment:image.png)"
      ]
    },
    {
      "cell_type": "code",
      "execution_count": null,
      "metadata": {
        "id": "IlhtZjYwLhcb"
      },
      "outputs": [],
      "source": [
        "torch.manual_seed(1024)\n",
        "pipe(prompt, num_inference_steps=3).images[0]"
      ]
    },
    {
      "cell_type": "code",
      "execution_count": null,
      "metadata": {
        "id": "VkmN1l90Lhcb"
      },
      "outputs": [],
      "source": [
        "torch.manual_seed(1024)\n",
        "pipe(prompt, num_inference_steps=16).images[0]"
      ]
    },
    {
      "cell_type": "markdown",
      "metadata": {
        "id": "83Pgt7L4Lhcb"
      },
      "source": [
        "### Classifier-Free Guidance"
      ]
    },
    {
      "cell_type": "code",
      "execution_count": null,
      "metadata": {
        "id": "UtgrVSHALhcc"
      },
      "outputs": [],
      "source": [
        "def image_grid(imgs, rows, cols):\n",
        "    w,h = imgs[0].size\n",
        "    grid = Image.new('RGB', size=(cols*w, rows*h))\n",
        "    for i, img in enumerate(imgs): grid.paste(img, box=(i%cols*w, i//cols*h))\n",
        "    return grid"
      ]
    },
    {
      "cell_type": "markdown",
      "metadata": {
        "id": "Stcdrc-lLhcc"
      },
      "source": [
        "_Classifier-Free Guidance_ is a method to increase the adherence of the output to the conditioning signal we used (the text).\n",
        "\n",
        "Roughly speaking, the larger the guidance the more the model tries to represent the text prompt. However, large values tend to produce less diversity. The default is `7.5`, which represents a good compromise between variety and fidelity. This [blog post](https://benanne.github.io/2022/05/26/guidance.html) goes into deeper details on how it works.\n",
        "\n",
        "We can generate multiple images for the same prompt by simply passing a list of prompts instead of a string."
      ]
    },
    {
      "cell_type": "code",
      "execution_count": null,
      "metadata": {
        "id": "FD0MStXOLhcc"
      },
      "outputs": [],
      "source": [
        "num_rows,num_cols = 4,4\n",
        "prompts = [prompt] * num_cols"
      ]
    },
    {
      "cell_type": "code",
      "execution_count": null,
      "metadata": {
        "id": "HqAOtBg9Lhcc"
      },
      "outputs": [],
      "source": [
        "images = concat(pipe(prompts, guidance_scale=g).images for g in [1.1,3,7,14])"
      ]
    },
    {
      "cell_type": "code",
      "execution_count": null,
      "metadata": {
        "id": "_CAdhaBvLhcc"
      },
      "outputs": [],
      "source": [
        "image_grid(images, rows=num_rows, cols=num_cols)"
      ]
    },
    {
      "cell_type": "markdown",
      "metadata": {
        "id": "R7bt04hZLhcd"
      },
      "source": [
        "### Negative prompts"
      ]
    },
    {
      "cell_type": "markdown",
      "metadata": {
        "id": "lapum7C9Lhcd"
      },
      "source": [
        "_Negative prompting_ refers to the use of another prompt (instead of a completely unconditioned generation), and scaling the difference between generations of that prompt and the conditioned generation."
      ]
    },
    {
      "cell_type": "code",
      "execution_count": null,
      "metadata": {
        "id": "f-pfqO4jLhcd"
      },
      "outputs": [],
      "source": [
        "torch.manual_seed(1000)\n",
        "prompt = \"a photograph of an owl on a tree under a full moon\"\n",
        "pipe(prompt).images[0]"
      ]
    },
    {
      "cell_type": "code",
      "source": [
        "torch.manual_seed(1000)\n",
        "pipe(prompt, negative_prompt=\"brown\").images[0]"
      ],
      "metadata": {
        "id": "GSA8HkPcwVns"
      },
      "execution_count": null,
      "outputs": []
    },
    {
      "cell_type": "code",
      "execution_count": null,
      "metadata": {
        "id": "dQSaXgvOLhcd"
      },
      "outputs": [],
      "source": [
        "torch.manual_seed(1000)\n",
        "pipe(prompt, negative_prompt=\"great horned owl\").images[0]"
      ]
    },
    {
      "cell_type": "markdown",
      "metadata": {
        "id": "8DosZ8mnLhcd"
      },
      "source": [
        "By using the negative prompt we move more towards the direction of the positive prompt, effectively reducing the importance of the negative prompt in our composition."
      ]
    },
    {
      "cell_type": "markdown",
      "metadata": {
        "id": "uEJ4Y69HLhce"
      },
      "source": [
        "### Image to Image"
      ]
    },
    {
      "cell_type": "markdown",
      "metadata": {
        "id": "G6FrDwUkLhce"
      },
      "source": [
        "Even though Stable Diffusion was trained to generate images, and optionally drive the generation using text conditioning, we can use the raw image diffusion process for other tasks.\n",
        "\n",
        "For example, instead of starting from pure noise, we can start from an image an add a certain amount of noise to it. We are replacing the initial steps of the denoising and pretending our image is what the algorithm came up with. Then we continue the diffusion process from that state as usual.\n",
        "\n",
        "This usually preserves the composition although details may change a lot. It's great for sketches!"
      ]
    },
    {
      "cell_type": "markdown",
      "metadata": {
        "id": "nt9Fh9rJLhce"
      },
      "source": [
        "These operations (provide an initial image, add some noise to it and run diffusion from there) can be automatically performed by a special image to image pipeline: `StableDiffusionImg2ImgPipeline`. This is the source code for its [`__call__` method](https://github.com/huggingface/diffusers/blob/main/src/diffusers/pipelines/stable_diffusion/pipeline_stable_diffusion_img2img.py#L124)."
      ]
    },
    {
      "cell_type": "code",
      "execution_count": null,
      "metadata": {
        "id": "MJthjpElLhce"
      },
      "outputs": [],
      "source": [
        "from diffusers import StableDiffusionImg2ImgPipeline\n",
        "from fastdownload import FastDownload"
      ]
    },
    {
      "cell_type": "code",
      "execution_count": null,
      "metadata": {
        "id": "JyITTvJgLhce"
      },
      "outputs": [],
      "source": [
        "pipe = StableDiffusionImg2ImgPipeline.from_pretrained(\n",
        "    \"CompVis/stable-diffusion-v1-4\",\n",
        "    revision=\"fp16\",\n",
        "    torch_dtype=torch.float16,\n",
        ").to(\"cuda\")"
      ]
    },
    {
      "cell_type": "markdown",
      "metadata": {
        "id": "1l3mQTmoLhce"
      },
      "source": [
        "We'll use as an example the following sketch created by [user VigilanteRogue81](https://huggingface.co/spaces/huggingface-projects/diffuse-the-rest/discussions/204)."
      ]
    },
    {
      "cell_type": "code",
      "execution_count": null,
      "metadata": {
        "id": "heTKQvniLhcf"
      },
      "outputs": [],
      "source": [
        "init_image = Image.open(\"gdrive/MyDrive/expa/generative_ai_research/mishka_owl.png\").convert(\"RGB\")\n",
        "init_image"
      ]
    },
    {
      "cell_type": "code",
      "source": [
        "?? pipe"
      ],
      "metadata": {
        "id": "4WzdoYwezXjL"
      },
      "execution_count": null,
      "outputs": []
    },
    {
      "cell_type": "code",
      "execution_count": null,
      "metadata": {
        "id": "FoPBHjuyLhcf"
      },
      "outputs": [],
      "source": [
        "torch.manual_seed(1000)\n",
        "prompt = \"owl, photorealistic 4K\"\n",
        "images = pipe(prompt=prompt, num_images_per_prompt=3, image=init_image, strength=0.8, num_inference_steps=50).images\n",
        "image_grid(images, rows=1, cols=3)"
      ]
    },
    {
      "cell_type": "markdown",
      "metadata": {
        "id": "g5qpNDEMLhcf"
      },
      "source": [
        "When we get a composition we like we can use it as the next seed for another prompt and further change the results. For example, let's take the third image above and try to use it to generate something in the style of Van Gogh."
      ]
    },
    {
      "cell_type": "code",
      "execution_count": null,
      "metadata": {
        "id": "CFij4vRvLhcf"
      },
      "outputs": [],
      "source": [
        "init_image_test = images[0]\n",
        "init_image_test"
      ]
    },
    {
      "cell_type": "code",
      "execution_count": null,
      "metadata": {
        "id": "i6ff2XOyLhcf"
      },
      "outputs": [],
      "source": [
        "torch.manual_seed(1000)\n",
        "prompt = \"Oil painting of an owl by Van Gogh\"\n",
        "images = pipe(prompt=prompt, num_images_per_prompt=3, image=init_image_test, strength=1).images\n",
        "image_grid(images, rows=1, cols=3)"
      ]
    },
    {
      "cell_type": "code",
      "source": [
        "init_image_test_2=images[1]\n",
        "init_image_test_2"
      ],
      "metadata": {
        "id": "nyFnHbUZ37wF"
      },
      "execution_count": null,
      "outputs": []
    },
    {
      "cell_type": "code",
      "source": [
        "torch.manual_seed(1000)\n",
        "prompt = \"painting of an owl in style of water color\"\n",
        "images = pipe(prompt=prompt, num_images_per_prompt=3, image=init_image_test_2, strength=1).images\n",
        "image_grid(images, rows=1, cols=3)"
      ],
      "metadata": {
        "id": "Re64C5xs2UTI"
      },
      "execution_count": null,
      "outputs": []
    },
    {
      "cell_type": "code",
      "source": [
        "init_image_test_3=images[0]\n",
        "init_image_test_3"
      ],
      "metadata": {
        "id": "8plIoBOr4PhK"
      },
      "execution_count": null,
      "outputs": []
    },
    {
      "cell_type": "code",
      "source": [
        "prompt = \"owl, photorealistic 4K\"\n",
        "images = pipe(prompt=prompt, num_images_per_prompt=3, image=init_image_test_3, strength=1).images\n",
        "image_grid(images, rows=1, cols=3)"
      ],
      "metadata": {
        "id": "ke5qE4Sn4ZAZ"
      },
      "execution_count": null,
      "outputs": []
    },
    {
      "cell_type": "markdown",
      "metadata": {
        "id": "mvrwC9EnLhcf"
      },
      "source": [
        "Creative people use different tools in a process of iterative refinement to come up with the ideas they have in mind. Here's a [list with some suggestions](https://github.com/fastai/diffusion-nbs/blob/43a090286e5742f807d4ff58524c02a1888b3004/suggested_tools.md) to get started. "
      ]
    },
    {
      "cell_type": "markdown",
      "metadata": {
        "id": "ZS0iCWsHLhcg"
      },
      "source": [
        "### Fine-tuning"
      ]
    },
    {
      "cell_type": "markdown",
      "metadata": {
        "id": "Im0LQWIVLhcg"
      },
      "source": [
        "[How we made the text-to-pokemon model at Lambda](https://lambdalabs.com/blog/how-to-fine-tune-stable-diffusion-how-we-made-the-text-to-pokemon-model-at-lambda/)"
      ]
    },
    {
      "cell_type": "markdown",
      "metadata": {
        "id": "TWg2SyrwLhcg"
      },
      "source": [
        "![](https://lambdalabs.com/blog/content/images/2022/09/image.png)\n",
        "\n",
        "Girl with a pearl earring, Cute Obama creature, Donald Trump, Boris Johnson, Totoro, Hello Kitty"
      ]
    },
    {
      "cell_type": "markdown",
      "metadata": {
        "id": "Cba7qxfTLhcg"
      },
      "source": [
        "### Textual Inversion"
      ]
    },
    {
      "cell_type": "markdown",
      "metadata": {
        "id": "k5mcyn_RLhcg"
      },
      "source": [
        "Textual inversion is a process where you can quickly \"teach\" a new word to the text model and train its embeddings close to some visual representation. This is achieved by adding a new token to the vocabulary, freezing the weights of all the models (except the text encoder), and train with a few representative images.\n",
        "\n",
        "This is a schematic representation of the process by the [authors of the paper](https://textual-inversion.github.io).\n",
        "\n",
        "![Textual Inversion diagram](https://textual-inversion.github.io/static/images/training/training.JPG)"
      ]
    },
    {
      "cell_type": "markdown",
      "metadata": {
        "id": "J-I8ho82Lhcg"
      },
      "source": [
        "---"
      ]
    },
    {
      "cell_type": "markdown",
      "metadata": {
        "id": "6i1VyTwpLhcg"
      },
      "source": [
        "You can train your own tokens with photos you provide using [this training script](https://github.com/huggingface/diffusers/tree/main/examples/textual_inversion) or [Google Colab notebook](https://colab.research.google.com/github/huggingface/notebooks/blob/main/diffusers/sd_textual_inversion_training.ipynb). There's also a [Colab notebook for inference](https://colab.research.google.com/github/huggingface/notebooks/blob/main/diffusers/stable_conceptualizer_inference.ipynb), but we'll show below the steps we have to follow to add a trained token to the vocabulary and make it work the pre-trained Stable Diffusion model.\n",
        "\n",
        "We'll try an example using embeddings trained for [this style](https://huggingface.co/sd-concepts-library/indian-watercolor-portraits)."
      ]
    },
    {
      "cell_type": "code",
      "execution_count": null,
      "metadata": {
        "id": "kgOcKpWrLhcg"
      },
      "outputs": [],
      "source": [
        "pipe = StableDiffusionPipeline.from_pretrained(\"CompVis/stable-diffusion-v1-4\", revision=\"fp16\", torch_dtype=torch.float16) \n",
        "pipe = pipe.to(\"cuda\")"
      ]
    },
    {
      "cell_type": "code",
      "execution_count": null,
      "metadata": {
        "id": "GgXn9mNFLhch"
      },
      "outputs": [],
      "source": [
        "embeds_url = \"https://huggingface.co/sd-concepts-library/indian-watercolor-portraits/resolve/main/learned_embeds.bin\"\n",
        "embeds_path = FastDownload().download(embeds_url)\n",
        "embeds_dict = torch.load(str(embeds_path), map_location=\"cpu\")"
      ]
    },
    {
      "cell_type": "markdown",
      "metadata": {
        "id": "MU9OJe8FLhch"
      },
      "source": [
        "The embeddings for the new token are stored in a small PyTorch pickled dictionary, whose key is the new text token that was trained. Since the encoder of our pipeline does not know about this term, we need to manually append it."
      ]
    },
    {
      "cell_type": "code",
      "execution_count": null,
      "metadata": {
        "id": "RkD9YikRLhch"
      },
      "outputs": [],
      "source": [
        "tokenizer = pipe.tokenizer\n",
        "text_encoder = pipe.text_encoder\n",
        "new_token, embeds = next(iter(embeds_dict.items()))\n",
        "embeds = embeds.to(text_encoder.dtype)\n",
        "new_token"
      ]
    },
    {
      "cell_type": "markdown",
      "metadata": {
        "id": "JUYb9qczLhch"
      },
      "source": [
        "We add the new token to the tokenizer and the trained embeddings to the embeddings table."
      ]
    },
    {
      "cell_type": "code",
      "execution_count": null,
      "metadata": {
        "id": "hvdxwY7gLhch"
      },
      "outputs": [],
      "source": [
        "assert tokenizer.add_tokens(new_token) == 1, \"The token already exists!\""
      ]
    },
    {
      "cell_type": "code",
      "execution_count": null,
      "metadata": {
        "id": "P05nzfPgLhch"
      },
      "outputs": [],
      "source": [
        "text_encoder.resize_token_embeddings(len(tokenizer))\n",
        "new_token_id = tokenizer.convert_tokens_to_ids(new_token)\n",
        "text_encoder.get_input_embeddings().weight.data[new_token_id] = embeds"
      ]
    },
    {
      "cell_type": "markdown",
      "metadata": {
        "id": "OB_v5gCDLhch"
      },
      "source": [
        "We can now run inference and refer to the style as if it was another word in the dictionary."
      ]
    },
    {
      "cell_type": "code",
      "execution_count": null,
      "metadata": {
        "id": "jDCbA8fSLhci"
      },
      "outputs": [],
      "source": [
        "torch.manual_seed(1000)\n",
        "image = pipe(\"Woman reading in the style of <watercolor-portrait>\").images[0]\n",
        "image"
      ]
    },
    {
      "cell_type": "markdown",
      "metadata": {
        "id": "f3lSsIQALhci"
      },
      "source": [
        "### Dreambooth"
      ]
    },
    {
      "cell_type": "markdown",
      "metadata": {
        "id": "RFKH-0r1Lhci"
      },
      "source": [
        "[Dreambooth](https://dreambooth.github.io) is a kind of fine-tuning that attempts to introduce new subjects by providing just a few images of the new subject. The goal is similar to that of [Textual Inversion](#Textual-Inversion), but the process is different. Instead of creating a new token as Textual Inversion does, we select an existing token in the vocabulary (usually a rarely used one), and fine-tune the model for a few hundred steps to bring that token close to the images we provide. This is a regular fine-tuning process in which all modules are unfrozen."
      ]
    },
    {
      "cell_type": "markdown",
      "metadata": {
        "id": "S0rsPGaGLhci"
      },
      "source": [
        "For example, we fine-tuned a model with a prompt like `\"photo of a sks person\"`, using the rare `sks` token to qualify the term `person`, and using photos of Jeremy as the targets. Let's see how it works."
      ]
    },
    {
      "cell_type": "code",
      "execution_count": null,
      "metadata": {
        "id": "1SMe-un2Lhci"
      },
      "outputs": [],
      "source": [
        "pipe = StableDiffusionPipeline.from_pretrained(\"pcuenq/jh_dreambooth_1000\", torch_dtype=torch.float16)\n",
        "pipe = pipe.to(\"cuda\")"
      ]
    },
    {
      "cell_type": "code",
      "execution_count": null,
      "metadata": {
        "id": "gmMjf-_ILhci"
      },
      "outputs": [],
      "source": [
        "torch.manual_seed(1000)\n",
        "\n",
        "prompt = \"Painting of sks person in the style of Paul Signac\"\n",
        "images = pipe(prompt, num_images_per_prompt=4).images\n",
        "image_grid(images, 1, 4)"
      ]
    },
    {
      "cell_type": "markdown",
      "metadata": {
        "id": "1BJQ5mi0Lhci"
      },
      "source": [
        "Fine-tuning with Dreambooth is finicky and sensitive to hyperparameters, as we are essentially asking the model to overfit the prompt to the supplied images. In some situations we observe problems such as catastrophic forgetting of the associated term (`\"person\"` in this case). The authors applied a technique called \"prior preservation\" to try to avoid it by performing a special regularization using other examples of the term, in addition to the ones we provided. The cool thing about this idea is that those examples can be easily generated by the pre-trained Stable Diffusion model itself! We did not use that method in the model we trained for the previous example.\n",
        "\n",
        "Other ideas that may work include: use EMA so that the final weights preserve some of the previous knowledge, use progressive learning rates for fine-tuning, or combine the best of Textual Inversion with Dreambooth. These could make for some interesting projects to try out!\n",
        "\n",
        "If you want to train your own Dreambooth model, you can use [this script](https://github.com/huggingface/diffusers/tree/main/examples/dreambooth) or [this Colab notebook](https://colab.research.google.com/github/huggingface/notebooks/blob/main/diffusers/sd_dreambooth_training.ipynb). "
      ]
    },
    {
      "cell_type": "markdown",
      "metadata": {
        "id": "Ag6h1e46Lhcj"
      },
      "source": [
        "### What is Stable Diffusion"
      ]
    },
    {
      "cell_type": "markdown",
      "metadata": {
        "id": "ooWDNHu1Lhcj"
      },
      "source": [
        "There are three main components in latent diffusion.\n",
        "\n",
        "1. An autoencoder (VAE).\n",
        "2. A [U-Net](https://colab.research.google.com/github/huggingface/notebooks/blob/main/diffusers/diffusers_intro.ipynb#scrollTo=wW8o1Wp0zRkq).\n",
        "3. A text-encoder, *e.g.* [CLIP's Text Encoder](https://huggingface.co/docs/transformers/model_doc/clip#transformers.CLIPTextModel).\n",
        "\n",
        "The output of the U-Net, being the noise residual, is used to compute a denoised latent image representation via a scheduler algorithm. Many different scheduler algorithms can be used for this computation, each having its pros and cons. For Stable Diffusion, we recommend using one of:\n",
        "\n",
        "- [PNDM scheduler](https://github.com/huggingface/diffusers/blob/main/src/diffusers/schedulers/scheduling_pndm.py) (used by default)\n",
        "- [DDIM scheduler](https://github.com/huggingface/diffusers/blob/main/src/diffusers/schedulers/scheduling_ddim.py)\n",
        "- [K-LMS scheduler](https://github.com/huggingface/diffusers/blob/main/src/diffusers/schedulers/scheduling_lms_discrete.py)"
      ]
    },
    {
      "cell_type": "markdown",
      "metadata": {
        "id": "IktLervzLhcj"
      },
      "source": [
        "### Latents and callbacks"
      ]
    },
    {
      "cell_type": "markdown",
      "metadata": {
        "id": "FGq3QezfLhcj"
      },
      "source": [
        "Stable Diffusion is based on a particular type of diffusion model called **Latent Diffusion**, proposed in [High-Resolution Image Synthesis with Latent Diffusion Models](https://arxiv.org/abs/2112.10752).\n",
        "\n",
        "General diffusion models are machine learning systems that are trained to *denoise* random gaussian noise step by step, to get to a sample of interest, such as an *image*. For a more detailed overview of how they work, check [this colab](https://colab.research.google.com/github/huggingface/notebooks/blob/main/diffusers/diffusers_intro.ipynb).\n",
        "\n",
        "Diffusion models have shown to achieve state-of-the-art results for generating image data. But one downside of diffusion models is that the reverse denoising process is slow. In addition, these models consume a lot of memory because they operate in pixel space, which becomes unreasonably expensive when generating high-resolution images. Therefore, it is challenging to train these models and also use them for inference.\n",
        "\n",
        "Latent diffusion can reduce the memory and compute complexity by applying the diffusion process over a lower dimensional _latent_ space, instead of using the actual pixel space. This is the key difference between standard diffusion and latent diffusion models: **in latent diffusion the model is trained to generate latent (compressed) representations of the images.** \n",
        "\n",
        "The Stable Diffusion pipeline can send intermediate latents to a callback function we provide. By running these latents through the image decoder (the `vae` component of the pipeline), we can see how the denoising process progresses and the image unfolds."
      ]
    },
    {
      "cell_type": "code",
      "execution_count": null,
      "metadata": {
        "id": "I5-N3GLoLhcj"
      },
      "outputs": [],
      "source": [
        "vae = pipe.vae\n",
        "images = []\n",
        "\n",
        "def latents_callback(i, t, latents):\n",
        "    latents = 1 / 0.18215 * latents\n",
        "    image = vae.decode(latents).sample[0]\n",
        "    image = (image / 2 + 0.5).clamp(0, 1)\n",
        "    image = image.cpu().permute(1, 2, 0).numpy()\n",
        "    images.extend(pipe.numpy_to_pil(image))\n",
        "\n",
        "prompt = \"Portrait painting of Jeremy Howard looking happy.\"\n",
        "torch.manual_seed(9000)\n",
        "final_image = pipe(prompt, callback=latents_callback, callback_steps=12).images[0]\n",
        "images.append(final_image)\n",
        "image_grid(images, rows=1, cols=len(images))"
      ]
    },
    {
      "cell_type": "markdown",
      "metadata": {
        "id": "WLV6VtekLhcj"
      },
      "source": [
        "**Why is latent diffusion fast and efficient?**\n",
        "\n",
        "Since the U-Net of latent diffusion models operates on a low dimensional space, it greatly reduces the memory and compute requirements compared to pixel-space diffusion models. For example, the autoencoder used in Stable Diffusion has a reduction factor of 8 but uses 4 channels instead of 3. This means that an image of shape `(3, 512, 512)` becomes `(4, 64, 64)` in latent space, which requires `8 × 8 × 3/4 = 48` times less memory.\n",
        "\n",
        "This is why it's possible to generate `512 × 512` images so quickly, even on 16GB Colab GPUs!"
      ]
    },
    {
      "cell_type": "code",
      "execution_count": null,
      "metadata": {
        "id": "_hN_xnvFLhcj"
      },
      "outputs": [],
      "source": [
        "del pipe"
      ]
    },
    {
      "cell_type": "markdown",
      "metadata": {
        "id": "yjcTieA8Lhck"
      },
      "source": [
        "## Looking inside the pipeline"
      ]
    },
    {
      "cell_type": "markdown",
      "metadata": {
        "id": "K75jarYWLhck"
      },
      "source": [
        "The inference pipeline is just a small piece of code that plugs the components together and performs the inference loop. [This is all there it to is](https://github.com/huggingface/diffusers/blob/main/src/diffusers/pipelines/stable_diffusion/pipeline_stable_diffusion.py#L204).\n",
        "\n",
        "We'll go through the process of loading and plugging the pieces to see how we could have written it ourselves. We'll start by loading all the modules that we need from their pretrained weights.\n",
        "\n",
        "First, we need the text encoder and the tokenizer. These come from the text portion of a standard CLIP model, so we'll use the weights released by Open AI."
      ]
    },
    {
      "cell_type": "code",
      "execution_count": null,
      "metadata": {
        "id": "bmXIbF25Lhck"
      },
      "outputs": [],
      "source": [
        "from transformers import CLIPTextModel, CLIPTokenizer"
      ]
    },
    {
      "cell_type": "code",
      "execution_count": null,
      "metadata": {
        "id": "bBYyhpFULhck"
      },
      "outputs": [],
      "source": [
        "tokenizer = CLIPTokenizer.from_pretrained(\"openai/clip-vit-large-patch14\", torch_dtype=torch.float16)\n",
        "text_encoder = CLIPTextModel.from_pretrained(\"openai/clip-vit-large-patch14\", torch_dtype=torch.float16).to(\"cuda\")"
      ]
    },
    {
      "cell_type": "markdown",
      "metadata": {
        "id": "ep1G5tUHLhck"
      },
      "source": [
        "Next we'll load the `vae` and the `unet`. These are distinct models whose weights are stored inside folders of the Stable Diffusion repository. We can use the `subfolder` argument to refer to [these locations](https://huggingface.co/CompVis/stable-diffusion-v1-4/tree/main)."
      ]
    },
    {
      "cell_type": "code",
      "execution_count": null,
      "metadata": {
        "id": "lEotJUwCLhck"
      },
      "outputs": [],
      "source": [
        "from diffusers import AutoencoderKL, UNet2DConditionModel"
      ]
    },
    {
      "cell_type": "code",
      "execution_count": null,
      "metadata": {
        "id": "gQ0GJSgqLhck"
      },
      "outputs": [],
      "source": [
        "# Here we use a different VAE to the original release, which has been fine-tuned for more steps\n",
        "vae = AutoencoderKL.from_pretrained(\"stabilityai/sd-vae-ft-ema\", torch_dtype=torch.float16).to(\"cuda\")\n",
        "unet = UNet2DConditionModel.from_pretrained(\"CompVis/stable-diffusion-v1-4\", subfolder=\"unet\", torch_dtype=torch.float16).to(\"cuda\")"
      ]
    },
    {
      "cell_type": "markdown",
      "metadata": {
        "id": "_zZhFMfuLhcl"
      },
      "source": [
        "To make things a bit different, we'll use another scheduler. The standard pipeline uses the [PNDM Scheduler](https://arxiv.org/abs/2202.09778), but we'll use [Katherine Crowson's](https://github.com/crowsonkb) excellent K-LMS scheduler.\n",
        "\n",
        "We need to be careful to use the same noising schedule that was used during training. The schedule is defined by the number of noising steps and the amount of noise added at each step, which is derived from the _beta_ parameters.\n",
        "\n",
        "In the case of the k-LMS scheduler, this is how the betas evolve during the 1000 steps of the noising process used during training:"
      ]
    },
    {
      "cell_type": "code",
      "execution_count": null,
      "metadata": {
        "id": "NoRo705ALhcl"
      },
      "outputs": [],
      "source": [
        "beta_start,beta_end = 0.00085,0.012\n",
        "plt.plot(torch.linspace(beta_start**0.5, beta_end**0.5, 1000) ** 2)\n",
        "plt.xlabel('Timestep')\n",
        "plt.ylabel('β');"
      ]
    },
    {
      "cell_type": "code",
      "execution_count": null,
      "metadata": {
        "id": "EoodXRkfLhcl"
      },
      "outputs": [],
      "source": [
        "from diffusers import LMSDiscreteScheduler"
      ]
    },
    {
      "cell_type": "code",
      "execution_count": null,
      "metadata": {
        "id": "VO4Ol8WvLhcl"
      },
      "outputs": [],
      "source": [
        "scheduler = LMSDiscreteScheduler(beta_start=beta_start, beta_end=beta_end, beta_schedule=\"scaled_linear\", num_train_timesteps=1000)"
      ]
    },
    {
      "cell_type": "markdown",
      "metadata": {
        "id": "1u7UxFaHLhcl"
      },
      "source": [
        "We now define the parameters we'll use for generation.\n",
        "\n",
        "In contrast with the previous examples, we set `num_inference_steps` to 70 to get an even more defined image."
      ]
    },
    {
      "cell_type": "code",
      "execution_count": null,
      "metadata": {
        "id": "WnfadE5VLhcl"
      },
      "outputs": [],
      "source": [
        "prompt = [\"a photograph of an astronaut riding a horse\"]\n",
        "\n",
        "height = 512\n",
        "width = 512\n",
        "num_inference_steps = 70\n",
        "guidance_scale = 7.5\n",
        "batch_size = 1"
      ]
    },
    {
      "cell_type": "markdown",
      "metadata": {
        "id": "S0tf2CMyLhcl"
      },
      "source": [
        "We tokenize the prompt. The model requires the same number of tokens for every prompt, so padding is used to ensure we meet the required length."
      ]
    },
    {
      "cell_type": "code",
      "execution_count": null,
      "metadata": {
        "id": "sDHXez9nLhcm"
      },
      "outputs": [],
      "source": [
        "text_input = tokenizer(prompt, padding=\"max_length\", max_length=tokenizer.model_max_length, truncation=True, return_tensors=\"pt\")\n",
        "text_input['input_ids']"
      ]
    },
    {
      "cell_type": "code",
      "execution_count": null,
      "metadata": {
        "id": "ucdhmJqQLhcm"
      },
      "outputs": [],
      "source": [
        "tokenizer.decode(49407)"
      ]
    },
    {
      "cell_type": "markdown",
      "metadata": {
        "id": "RlDfNLhVLhcm"
      },
      "source": [
        "The attention mask uses zero to represent tokens we are not interested in. These are all of the padding tokens."
      ]
    },
    {
      "cell_type": "code",
      "execution_count": null,
      "metadata": {
        "id": "yqNiz-pDLhcm"
      },
      "outputs": [],
      "source": [
        "text_input['attention_mask']"
      ]
    },
    {
      "cell_type": "markdown",
      "metadata": {
        "id": "yCWyfz1-Lhcm"
      },
      "source": [
        "The text encoder gives us the embeddings for the text prompt we used."
      ]
    },
    {
      "cell_type": "code",
      "execution_count": null,
      "metadata": {
        "id": "caccy3xOLhcm"
      },
      "outputs": [],
      "source": [
        "text_embeddings = text_encoder(text_input.input_ids.to(\"cuda\"))[0].half()\n",
        "text_embeddings.shape"
      ]
    },
    {
      "cell_type": "markdown",
      "metadata": {
        "id": "_XJPJk9PLhcm"
      },
      "source": [
        "We also get the embeddings required to perform unconditional generation, which is achieved with an empty string: the model is free to go in whichever direction it wants as long as it results in a reasonably-looking image. These embeddings will be applied to apply classifier-free guidance."
      ]
    },
    {
      "cell_type": "code",
      "execution_count": null,
      "metadata": {
        "id": "IhFjbWWGLhcn"
      },
      "outputs": [],
      "source": [
        "max_length = text_input.input_ids.shape[-1]\n",
        "uncond_input = tokenizer(\n",
        "    [\"\"] * batch_size, padding=\"max_length\", max_length=max_length, return_tensors=\"pt\"\n",
        ")\n",
        "uncond_embeddings = text_encoder(uncond_input.input_ids.to(\"cuda\"))[0].half()\n",
        "uncond_embeddings.shape"
      ]
    },
    {
      "cell_type": "markdown",
      "metadata": {
        "id": "kOmE8pwkLhcn"
      },
      "source": [
        "For classifier-free guidance, we need to do two forward passes. One with the conditioned input (`text_embeddings`), and another with the unconditional embeddings (`uncond_embeddings`). In practice, we can concatenate both into a single batch to avoid doing two forward passes."
      ]
    },
    {
      "cell_type": "code",
      "execution_count": null,
      "metadata": {
        "id": "2r4w3bySLhcn"
      },
      "outputs": [],
      "source": [
        "text_embeddings = torch.cat([uncond_embeddings, text_embeddings])"
      ]
    },
    {
      "cell_type": "markdown",
      "metadata": {
        "id": "jw4FXjJ0Lhcn"
      },
      "source": [
        "To start the denoising process, we start from pure Gaussian (normal) noise. These are our initial latents."
      ]
    },
    {
      "cell_type": "code",
      "execution_count": null,
      "metadata": {
        "id": "MmwdSXvMLhcn"
      },
      "outputs": [],
      "source": [
        "torch.manual_seed(100)\n",
        "latents = torch.randn((batch_size, unet.in_channels, height // 8, width // 8))\n",
        "latents = latents.to(\"cuda\").half()\n",
        "latents.shape"
      ]
    },
    {
      "cell_type": "markdown",
      "metadata": {
        "id": "QgO6A4RaLhcn"
      },
      "source": [
        "`4×64×64` is the input shape. The decoder will later transform this latent representation into a `3×512×512` image after the denoising process is complete.\n",
        "\n",
        "Next, we initialize the scheduler with our chosen `num_inference_steps`. This will prepare the internal state to be used during denoising."
      ]
    },
    {
      "cell_type": "code",
      "execution_count": null,
      "metadata": {
        "id": "_W3nTct2Lhcn"
      },
      "outputs": [],
      "source": [
        "scheduler.set_timesteps(num_inference_steps)"
      ]
    },
    {
      "cell_type": "markdown",
      "metadata": {
        "id": "Gt5X_4pSLhco"
      },
      "source": [
        "We scale the initial noise by the standard deviation required by the scheduler. This value will depend on the particular scheduler we use."
      ]
    },
    {
      "cell_type": "code",
      "execution_count": null,
      "metadata": {
        "id": "YKIvCbPFLhco"
      },
      "outputs": [],
      "source": [
        "latents = latents * scheduler.init_noise_sigma"
      ]
    },
    {
      "cell_type": "markdown",
      "metadata": {
        "id": "b-YY9AMcLhco"
      },
      "source": [
        "We are ready to write the denoising loop. The timesteps go from `999` to `0` (1000 steps that were used during training) following a particular schedule."
      ]
    },
    {
      "cell_type": "code",
      "execution_count": null,
      "metadata": {
        "id": "9b9dB92vLhco"
      },
      "outputs": [],
      "source": [
        "scheduler.timesteps"
      ]
    },
    {
      "cell_type": "code",
      "execution_count": null,
      "metadata": {
        "id": "h-seTim3Lhco"
      },
      "outputs": [],
      "source": [
        "scheduler.sigmas"
      ]
    },
    {
      "cell_type": "code",
      "execution_count": null,
      "metadata": {
        "id": "6VRmbIZtLhco"
      },
      "outputs": [],
      "source": [
        "plt.plot(scheduler.timesteps, scheduler.sigmas[:-1]);"
      ]
    },
    {
      "cell_type": "code",
      "execution_count": null,
      "metadata": {
        "id": "M77MUjMaLhco"
      },
      "outputs": [],
      "source": [
        "from tqdm.auto import tqdm"
      ]
    },
    {
      "cell_type": "code",
      "execution_count": null,
      "metadata": {
        "id": "iXv7rPJMLhco"
      },
      "outputs": [],
      "source": [
        "for i, t in enumerate(tqdm(scheduler.timesteps)):\n",
        "    input = torch.cat([latents] * 2)\n",
        "    input = scheduler.scale_model_input(input, t)\n",
        "\n",
        "    # predict the noise residual\n",
        "    with torch.no_grad(): pred = unet(input, t, encoder_hidden_states=text_embeddings).sample\n",
        "\n",
        "    # perform guidance\n",
        "    pred_uncond, pred_text = pred.chunk(2)\n",
        "    pred = pred_uncond + guidance_scale * (pred_text - pred_uncond)\n",
        "\n",
        "    # compute the \"previous\" noisy sample\n",
        "    latents = scheduler.step(pred, t, latents).prev_sample"
      ]
    },
    {
      "cell_type": "markdown",
      "metadata": {
        "id": "4eAh4HXfLhcp"
      },
      "source": [
        "After this process complets our `latents` contain the denoised representation of the image. We use the `vae` decoder to convert it back to pixel space."
      ]
    },
    {
      "cell_type": "code",
      "execution_count": null,
      "metadata": {
        "id": "EsiS39KWLhcp"
      },
      "outputs": [],
      "source": [
        "with torch.no_grad(): image = vae.decode(1 / 0.18215 * latents).sample"
      ]
    },
    {
      "cell_type": "markdown",
      "metadata": {
        "id": "ka-utMZzLhcp"
      },
      "source": [
        "And finally, let's convert the image to PIL so we can display it."
      ]
    },
    {
      "cell_type": "code",
      "execution_count": null,
      "metadata": {
        "id": "MEyr4DXHLhcp"
      },
      "outputs": [],
      "source": [
        "image = (image / 2 + 0.5).clamp(0, 1)\n",
        "image = image[0].detach().cpu().permute(1, 2, 0).numpy()\n",
        "image = (image * 255).round().astype(\"uint8\")\n",
        "Image.fromarray(image)"
      ]
    },
    {
      "cell_type": "markdown",
      "metadata": {
        "id": "AfuxWt1BLhcp"
      },
      "source": [
        "### Just the code"
      ]
    },
    {
      "cell_type": "code",
      "execution_count": null,
      "metadata": {
        "id": "874u-LHGLhcp"
      },
      "outputs": [],
      "source": [
        "prompts = [\n",
        "    'a photograph of an astronaut riding a horse',\n",
        "    'an oil painting of an astronaut riding a horse in the style of grant wood'\n",
        "]"
      ]
    },
    {
      "cell_type": "code",
      "execution_count": null,
      "metadata": {
        "id": "YBEmpNzNLhcq"
      },
      "outputs": [],
      "source": [
        "text_input = tokenizer(prompts, padding=\"max_length\", max_length=tokenizer.model_max_length, truncation=True, return_tensors=\"pt\")\n",
        "text_embeddings = text_encoder(text_input.input_ids.to(\"cuda\"))[0].half()"
      ]
    },
    {
      "cell_type": "code",
      "execution_count": null,
      "metadata": {
        "id": "7V4DSTqpLhcq"
      },
      "outputs": [],
      "source": [
        "max_length = text_input.input_ids.shape[-1]\n",
        "uncond_input = tokenizer([\"\"] * len(prompts), padding=\"max_length\", max_length=max_length, return_tensors=\"pt\")\n",
        "uncond_embeddings = text_encoder(uncond_input.input_ids.to(\"cuda\"))[0].half()\n",
        "emb = torch.cat([uncond_embeddings, text_embeddings])"
      ]
    },
    {
      "cell_type": "code",
      "execution_count": null,
      "metadata": {
        "id": "eW127BI_Lhcq"
      },
      "outputs": [],
      "source": [
        "torch.manual_seed(100)\n",
        "g = guidance_scale"
      ]
    },
    {
      "cell_type": "code",
      "execution_count": null,
      "metadata": {
        "id": "IY3TXo1hLhcq"
      },
      "outputs": [],
      "source": [
        "latents = torch.randn((len(prompts), unet.in_channels, height//8, width//8))\n",
        "scheduler.set_timesteps(num_inference_steps)\n",
        "latents = latents.to(\"cuda\").half() * scheduler.init_noise_sigma"
      ]
    },
    {
      "cell_type": "code",
      "execution_count": null,
      "metadata": {
        "id": "sLijh5v2Lhcq"
      },
      "outputs": [],
      "source": [
        "for i,ts in enumerate(tqdm(scheduler.timesteps)):\n",
        "    inp = scheduler.scale_model_input(torch.cat([latents] * 2), ts)\n",
        "    with torch.no_grad(): u,t = unet(inp, ts, encoder_hidden_states=emb).sample.chunk(2)\n",
        "    pred = u + g*(t-u)\n",
        "    latents = scheduler.step(pred, ts, latents).prev_sample"
      ]
    },
    {
      "cell_type": "code",
      "execution_count": null,
      "metadata": {
        "id": "lzHm_07TLhcq"
      },
      "outputs": [],
      "source": [
        "with torch.no_grad(): image = vae.decode(1 / 0.18215 * latents).sample\n",
        "res = (image / 2 + 0.5).clamp(0, 1)"
      ]
    },
    {
      "cell_type": "code",
      "execution_count": null,
      "metadata": {
        "id": "TK1E4t4qLhcq"
      },
      "outputs": [],
      "source": [
        "image = res[0].detach().cpu().permute(1, 2, 0).numpy()\n",
        "image = (image * 255).round().astype(\"uint8\")\n",
        "Image.fromarray(image)"
      ]
    },
    {
      "cell_type": "code",
      "execution_count": null,
      "metadata": {
        "id": "PEJjEmVFLhcq"
      },
      "outputs": [],
      "source": [
        "image = res[1].detach().cpu().permute(1, 2, 0).numpy()\n",
        "image = (image * 255).round().astype(\"uint8\")\n",
        "Image.fromarray(image)"
      ]
    },
    {
      "cell_type": "markdown",
      "metadata": {
        "id": "Eg5bqgB0Lhcr"
      },
      "source": [
        "### Put it in functions"
      ]
    },
    {
      "cell_type": "code",
      "execution_count": null,
      "metadata": {
        "id": "AoYTZMgeLhcr"
      },
      "outputs": [],
      "source": [
        "def text_enc(prompts, maxlen=None):\n",
        "    if maxlen is None: maxlen = tokenizer.model_max_length\n",
        "    inp = tokenizer(prompts, padding=\"max_length\", max_length=maxlen, truncation=True, return_tensors=\"pt\")\n",
        "    return text_encoder(inp.input_ids.to(\"cuda\"))[0].half()\n",
        "\n",
        "def mk_img(t):\n",
        "    image = (t/2+0.5).clamp(0,1).detach().cpu().permute(1, 2, 0).numpy()\n",
        "    return Image.fromarray((image*255).round().astype(\"uint8\"))"
      ]
    },
    {
      "cell_type": "code",
      "execution_count": null,
      "metadata": {
        "id": "ad6hwbKELhcr"
      },
      "outputs": [],
      "source": [
        "def mk_samples(prompts, g=7.5, seed=100, steps=70):\n",
        "    bs = len(prompts)\n",
        "    text = text_enc(prompts)\n",
        "    uncond = text_enc([\"\"] * bs, text.shape[1])\n",
        "    emb = torch.cat([uncond, text])\n",
        "    if seed: torch.manual_seed(seed)\n",
        "\n",
        "    latents = torch.randn((bs, unet.in_channels, height//8, width//8))\n",
        "    scheduler.set_timesteps(steps)\n",
        "    latents = latents.to(\"cuda\").half() * scheduler.init_noise_sigma\n",
        "\n",
        "    for i,ts in enumerate(tqdm(scheduler.timesteps)):\n",
        "        inp = scheduler.scale_model_input(torch.cat([latents] * 2), ts)\n",
        "        with torch.no_grad(): u,t = unet(inp, ts, encoder_hidden_states=emb).sample.chunk(2)\n",
        "        pred = u + g*(t-u)\n",
        "        latents = scheduler.step(pred, ts, latents).prev_sample\n",
        "\n",
        "    with torch.no_grad(): return vae.decode(1 / 0.18215 * latents).sample"
      ]
    },
    {
      "cell_type": "code",
      "execution_count": null,
      "metadata": {
        "id": "XLdcG7S-Lhcr"
      },
      "outputs": [],
      "source": [
        "images = mk_samples(prompts)"
      ]
    },
    {
      "cell_type": "code",
      "execution_count": null,
      "metadata": {
        "id": "EaF00xxlLhcr"
      },
      "outputs": [],
      "source": [
        "from IPython.display import display"
      ]
    },
    {
      "cell_type": "code",
      "execution_count": null,
      "metadata": {
        "id": "bGy0qkqOLhcr"
      },
      "outputs": [],
      "source": [
        "for img in images: display(mk_img(img))"
      ]
    },
    {
      "cell_type": "code",
      "execution_count": null,
      "metadata": {
        "id": "HFMCvhM1Lhcr"
      },
      "outputs": [],
      "source": []
    }
  ],
  "metadata": {
    "kernelspec": {
      "display_name": "Python 3 (ipykernel)",
      "language": "python",
      "name": "python3"
    },
    "language_info": {
      "codemirror_mode": {
        "name": "ipython",
        "version": 3
      },
      "file_extension": ".py",
      "mimetype": "text/x-python",
      "name": "python",
      "nbconvert_exporter": "python",
      "pygments_lexer": "ipython3",
      "version": "3.10.4"
    },
    "colab": {
      "provenance": [],
      "private_outputs": true,
      "machine_shape": "hm",
      "include_colab_link": true
    },
    "accelerator": "GPU",
    "gpuClass": "premium"
  },
  "nbformat": 4,
  "nbformat_minor": 0
}