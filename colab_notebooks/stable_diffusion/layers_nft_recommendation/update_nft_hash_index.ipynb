{
  "nbformat": 4,
  "nbformat_minor": 0,
  "metadata": {
    "colab": {
      "provenance": [],
      "gpuType": "V100",
      "authorship_tag": "ABX9TyPTBrT610027NZeMSMX1REk",
      "include_colab_link": true
    },
    "kernelspec": {
      "name": "python3",
      "display_name": "Python 3"
    },
    "language_info": {
      "name": "python"
    },
    "accelerator": "GPU"
  },
  "cells": [
    {
      "cell_type": "markdown",
      "metadata": {
        "id": "view-in-github",
        "colab_type": "text"
      },
      "source": [
        "<a href=\"https://colab.research.google.com/github/mchablani/generative_ai/blob/main/colab_notebooks/stable_diffusion/layers_nft_recommendation/update_nft_hash_index.ipynb\" target=\"_parent\"><img src=\"https://colab.research.google.com/assets/colab-badge.svg\" alt=\"Open In Colab\"/></a>"
      ]
    },
    {
      "cell_type": "code",
      "execution_count": 1,
      "metadata": {
        "colab": {
          "base_uri": "https://localhost:8080/"
        },
        "id": "zqhjqY6DBHAp",
        "outputId": "10fdda0f-eb54-4f8a-cc92-b0500aa849ea"
      },
      "outputs": [
        {
          "output_type": "stream",
          "name": "stdout",
          "text": [
            "Drive already mounted at /content/drive; to attempt to forcibly remount, call drive.mount(\"/content/drive\", force_remount=True).\n"
          ]
        }
      ],
      "source": [
        "\n",
        "from google.colab import drive\n",
        "drive.mount('/content/drive')"
      ]
    },
    {
      "cell_type": "code",
      "source": [
        "%ls /content/drive/MyDrive/expa/\n"
      ],
      "metadata": {
        "colab": {
          "base_uri": "https://localhost:8080/"
        },
        "id": "iNLaL6svHoXg",
        "outputId": "5c0be02a-c820-4f49-bb36-4d036d710052"
      },
      "execution_count": 2,
      "outputs": [
        {
          "output_type": "stream",
          "name": "stdout",
          "text": [
            "\u001b[0m\u001b[01;34maskLangChainTestProject\u001b[0m/  \u001b[01;34mlayers_data\u001b[0m/              \u001b[01;34msvb_gpt\u001b[0m/\n",
            "\u001b[01;34mgenerative_ai_research\u001b[0m/   \u001b[01;34mmini_mini_imagenet_data\u001b[0m/\n"
          ]
        }
      ]
    },
    {
      "cell_type": "code",
      "source": [
        "%mkdir /content/drive/MyDrive/expa/layers_data\n"
      ],
      "metadata": {
        "colab": {
          "base_uri": "https://localhost:8080/"
        },
        "id": "6Ybk1UDWHtev",
        "outputId": "3c8e48c5-9532-443c-863b-c383126db0b8"
      },
      "execution_count": 3,
      "outputs": [
        {
          "output_type": "stream",
          "name": "stdout",
          "text": [
            "mkdir: cannot create directory ‘/content/drive/MyDrive/expa/layers_data’: File exists\n"
          ]
        }
      ]
    },
    {
      "cell_type": "code",
      "source": [
        "%mkdir /content/drive/MyDrive/expa/layers_data/db"
      ],
      "metadata": {
        "colab": {
          "base_uri": "https://localhost:8080/"
        },
        "id": "TrxkceicIB6f",
        "outputId": "235da5fc-58ae-40de-f851-27a31ef4b22d"
      },
      "execution_count": 4,
      "outputs": [
        {
          "output_type": "stream",
          "name": "stdout",
          "text": [
            "mkdir: cannot create directory ‘/content/drive/MyDrive/expa/layers_data/db’: File exists\n"
          ]
        }
      ]
    },
    {
      "cell_type": "code",
      "source": [
        "%ls /content/drive/MyDrive/expa/layers_data\n"
      ],
      "metadata": {
        "colab": {
          "base_uri": "https://localhost:8080/"
        },
        "id": "hq0xtNXjHvKv",
        "outputId": "67c7b0a2-bb7c-4baa-d54e-2b3282e51522"
      },
      "execution_count": 5,
      "outputs": [
        {
          "output_type": "stream",
          "name": "stdout",
          "text": [
            "\u001b[0m\u001b[01;34mdb\u001b[0m/  \u001b[01;34mimages\u001b[0m/  layer-nfts-sample-data.csv  nfts_dump.csv\n"
          ]
        }
      ]
    },
    {
      "cell_type": "code",
      "source": [
        "import csv\n",
        "import os\n",
        "import requests\n",
        "from pathlib import Path"
      ],
      "metadata": {
        "id": "9JFEG0BuHyCv"
      },
      "execution_count": 6,
      "outputs": []
    },
    {
      "cell_type": "code",
      "source": [
        "db_folder_path = '/content/drive/MyDrive/expa/layers_data/db'\n",
        "db_name = 'nft_hash.index'\n",
        "db_meta_data_name = 'nft_hash_index_ids.pkl'"
      ],
      "metadata": {
        "id": "slcdUmB_H3LA"
      },
      "execution_count": 7,
      "outputs": []
    },
    {
      "cell_type": "code",
      "source": [
        "db_path = os.path.join(db_folder_path, db_name)\n",
        "db_meta_data_path = os.path.join(db_folder_path, db_meta_data_name)\n"
      ],
      "metadata": {
        "id": "OYH8HOoRIpbE"
      },
      "execution_count": 8,
      "outputs": []
    },
    {
      "cell_type": "code",
      "source": [
        "!pip install faiss-cpu"
      ],
      "metadata": {
        "colab": {
          "base_uri": "https://localhost:8080/"
        },
        "id": "2AJ8ScUY1z1V",
        "outputId": "2fa517a3-9854-4ebf-c1ee-a79e8f6ab472"
      },
      "execution_count": 9,
      "outputs": [
        {
          "output_type": "stream",
          "name": "stdout",
          "text": [
            "Requirement already satisfied: faiss-cpu in /usr/local/lib/python3.10/dist-packages (1.7.4)\n"
          ]
        }
      ]
    },
    {
      "cell_type": "code",
      "source": [
        "!pip install -q --upgrade transformers diffusers ftfy"
      ],
      "metadata": {
        "id": "O3Dbq1tC15dY"
      },
      "execution_count": 10,
      "outputs": []
    },
    {
      "cell_type": "code",
      "source": [
        "! mkdir \"/root/.huggingface\""
      ],
      "metadata": {
        "colab": {
          "base_uri": "https://localhost:8080/"
        },
        "id": "JhOSRyNN17PH",
        "outputId": "70892c13-a29d-4355-93cf-17a4994da3b0"
      },
      "execution_count": 11,
      "outputs": [
        {
          "output_type": "stream",
          "name": "stdout",
          "text": [
            "mkdir: cannot create directory ‘/root/.huggingface’: File exists\n"
          ]
        }
      ]
    },
    {
      "cell_type": "code",
      "source": [
        "! cp \"drive/MyDrive/.huggingface/token\" /root/.huggingface/token\n"
      ],
      "metadata": {
        "id": "SlAHxhWJ2Bev"
      },
      "execution_count": 12,
      "outputs": []
    },
    {
      "cell_type": "code",
      "source": [
        "\n",
        "from base64 import b64encode\n",
        "\n",
        "import numpy\n",
        "import os\n",
        "import torch\n",
        "\n",
        "# For video display:\n",
        "from IPython.display import HTML\n",
        "from matplotlib import pyplot as plt\n",
        "from pathlib import Path\n",
        "from PIL import Image\n",
        "from torch import autocast\n",
        "from torchvision import transforms as tfms\n",
        "from tqdm.auto import tqdm\n",
        "import torch.nn.functional as F\n",
        "from transformers import logging\n",
        "# import urllib.request\n",
        "import requests\n",
        "from io import BytesIO\n",
        "\n",
        "torch.manual_seed(1)\n",
        "if not (Path.home()/'.huggingface'/'token').exists(): notebook_login()\n",
        "\n",
        "# Supress some unnecessary warnings when loading the CLIPTextModel\n",
        "logging.set_verbosity_error()\n",
        "\n",
        "# Set device\n",
        "torch_device = \"cuda\" if torch.cuda.is_available() else \"cpu\""
      ],
      "metadata": {
        "id": "tixDZc7m2EzU"
      },
      "execution_count": 13,
      "outputs": []
    },
    {
      "cell_type": "code",
      "source": [
        "torch.cuda.is_available()\n"
      ],
      "metadata": {
        "colab": {
          "base_uri": "https://localhost:8080/"
        },
        "id": "9TNNxaUW2Nmk",
        "outputId": "58314431-ca41-43c8-b3b3-d706e94a1ac5"
      },
      "execution_count": 14,
      "outputs": [
        {
          "output_type": "execute_result",
          "data": {
            "text/plain": [
              "True"
            ]
          },
          "metadata": {},
          "execution_count": 14
        }
      ]
    },
    {
      "cell_type": "code",
      "source": [
        "\n",
        "# Load the pre-trained ViT model\n",
        "model = torch.hub.load('facebookresearch/dino:main', 'dino_vits16')\n",
        "\n",
        "# Define preprocessing pipeline for images\n",
        "transform = tfms.Compose([\n",
        "    tfms.Resize(256),\n",
        "    tfms.CenterCrop(224),\n",
        "    tfms.ToTensor(),\n",
        "    tfms.Normalize([0.485, 0.456, 0.406], [0.229, 0.224, 0.225])\n",
        "])"
      ],
      "metadata": {
        "colab": {
          "base_uri": "https://localhost:8080/"
        },
        "id": "5sIfnvKc2QmO",
        "outputId": "cf6676fb-7c53-4847-c183-faf21fd821bd"
      },
      "execution_count": 15,
      "outputs": [
        {
          "output_type": "stream",
          "name": "stderr",
          "text": [
            "Using cache found in /root/.cache/torch/hub/facebookresearch_dino_main\n"
          ]
        }
      ]
    },
    {
      "cell_type": "code",
      "source": [
        "MODEL_EMBED_LEN = 384"
      ],
      "metadata": {
        "id": "hpD8T0UoCf14"
      },
      "execution_count": 16,
      "outputs": []
    },
    {
      "cell_type": "code",
      "source": [
        "def encode_image(img):\n",
        "  with torch.no_grad():\n",
        "    img = img.convert(\"RGB\")\n",
        "    img = transform(img).unsqueeze(0)\n",
        "    encoded = model(img).squeeze().reshape(1, -1)\n",
        "  return encoded"
      ],
      "metadata": {
        "id": "sQDQnxfM2Ud_"
      },
      "execution_count": 17,
      "outputs": []
    },
    {
      "cell_type": "code",
      "source": [
        "# check if db exists, if not create one"
      ],
      "metadata": {
        "id": "QfklpBU9o_h5"
      },
      "execution_count": 18,
      "outputs": []
    },
    {
      "cell_type": "code",
      "source": [
        "# for now always create one"
      ],
      "metadata": {
        "id": "8AaTLU5e1spn"
      },
      "execution_count": 19,
      "outputs": []
    },
    {
      "cell_type": "code",
      "source": [
        "# generate index\n",
        "import numpy as np\n",
        "import faiss\n",
        "import pickle"
      ],
      "metadata": {
        "id": "e-ieBPuZ1wQK"
      },
      "execution_count": 20,
      "outputs": []
    },
    {
      "cell_type": "code",
      "source": [
        "index = faiss.IndexFlatL2(MODEL_EMBED_LEN)"
      ],
      "metadata": {
        "id": "lijb0FWhCE14"
      },
      "execution_count": 21,
      "outputs": []
    },
    {
      "cell_type": "code",
      "source": [
        "id_index = faiss.IndexIDMap(index)\n",
        "index_ids = {}\n"
      ],
      "metadata": {
        "id": "V5BWpCqDC20D"
      },
      "execution_count": 22,
      "outputs": []
    },
    {
      "cell_type": "code",
      "source": [],
      "metadata": {
        "id": "9ENFzfnUC23Y"
      },
      "execution_count": 22,
      "outputs": []
    },
    {
      "cell_type": "code",
      "source": [
        "csv_folder_path = '/content/drive/MyDrive/expa/layers_data'\n",
        "csv_name = 'nfts_dump.csv'"
      ],
      "metadata": {
        "id": "AZdOOqNMQm19"
      },
      "execution_count": 23,
      "outputs": []
    },
    {
      "cell_type": "code",
      "source": [
        "csv_path = os.path.join(csv_folder_path, csv_name)"
      ],
      "metadata": {
        "id": "ThL3TXE_wpki"
      },
      "execution_count": 24,
      "outputs": []
    },
    {
      "cell_type": "code",
      "source": [
        "with open(csv_path, newline='') as csvfile:\n",
        "  reader = csv.DictReader(csvfile)\n",
        "  row_index = 0\n",
        "  for row in reader:\n",
        "    row_index += 1\n",
        "    url = row[\"media\"]\n",
        "    uid = row[\"uid\"]\n",
        "    try:\n",
        "      # Send a request to download the image\n",
        "      response = requests.get(url)\n",
        "      response.raise_for_status()  # Check for any request errors\n",
        "\n",
        "      # Extract the filename from the URL\n",
        "      if len(response.content) > 100:\n",
        "        image = Image.open(BytesIO(response.content))\n",
        "        if image.format in (\"PNG\",\"JPEG\",\"JPG\"):\n",
        "          encoded = encode_image(image)\n",
        "          index_ids[row_index] = str(uid)\n",
        "          id_index.add_with_ids(encoded.cpu(), np.array(row_index))\n",
        "        else:\n",
        "          print(f\"Filter out:  image.format: {image.format}, url: {url}, row_index: {row_index}, uid: {uid}\")\n",
        "      else:\n",
        "          print(f\"Filter out:  url: {url}, row_index: {row_index}, uid: {uid}\")\n",
        "    except Exception as e:\n",
        "      print(f\"Error processing url: {url}, row_index: {row_index}, uid: {uid}\")\n",
        "      # break\n",
        "      continue\n",
        "\n"
      ],
      "metadata": {
        "colab": {
          "base_uri": "https://localhost:8080/"
        },
        "id": "fO7ZuKLewg1P",
        "outputId": "6fba0af3-be3d-469a-d295-a036007ef15f"
      },
      "execution_count": 32,
      "outputs": [
        {
          "output_type": "stream",
          "name": "stdout",
          "text": [
            "Filter out:  image.format: GIF, url: https://res.cloudinary.com/layernft/image/fetch/f_gif,fl_lossy/q_50/https://ipfs.io/ipfs/QmYQVMu2JccRVZ7HCS9znjLMAVm2X88BnhV5UGSnNA9mPA, row_index: 7, uid: 176945b5-644c-465d-a5a4-70646a83529f\n",
            "Filter out:  image.format: GIF, url: https://res.cloudinary.com/layernft/image/fetch/f_gif,fl_lossy/q_50/https://ipfs.io/ipfs/QmWTHc5WJHckKEMRC9dETwN8yyHUzp8qvwDSdKYEdU7nfx, row_index: 10, uid: 1f54af7b-0095-4249-837f-47c9f07957e0\n",
            "Filter out:  image.format: GIF, url: https://res.cloudinary.com/layernft/image/fetch/f_gif,fl_lossy/q_50/https://ipfs.io/ipfs/Qmf2SAtbgLABWTh5yydpycVYjiV81NzzFK4BioYZQZ21aa/nft.gif, row_index: 11, uid: 2153b94e-3ed9-4e63-a531-733618a942b2\n",
            "Filter out:  image.format: GIF, url: https://res.cloudinary.com/layernft/image/fetch/f_gif,fl_lossy/q_50/https://ipfs.io/ipfs/Qmcaon3vqDFJvAtUp1mtdKxuMSQu3HWzJe9rNDPegmAivA, row_index: 14, uid: 29b2b722-1411-4d70-bb24-783bbb0fb3f9\n",
            "Filter out:  image.format: GIF, url: https://res.cloudinary.com/layernft/image/fetch/f_gif,fl_lossy/q_50/https://ipfs.io/ipfs/QmQURvsCFLUyaCrVE3kEX1FmqqPozCusTRRZ19VsxS6x7g/nft.gif, row_index: 16, uid: 33e7bd2d-4daa-4906-8e2c-d48b18ea1b3b\n",
            "Filter out:  image.format: GIF, url: https://res.cloudinary.com/layernft/image/fetch/f_gif,fl_lossy/q_50/https://ipfs.io/ipfs/QmdSJA427EwKq3LAbRKSS1WSP6k9Q5bPWP1MtGT4f5fgfd, row_index: 19, uid: 3991a69e-3661-4007-b2bb-08f7fc03857a\n",
            "Filter out:  image.format: GIF, url: https://res.cloudinary.com/layernft/image/fetch/f_gif,fl_lossy/q_50/https://ipfs.io/ipfs/QmXaYiXi5XFai5WFFaSGQd4pHroR4AU8NNagR8QSFgMTcu, row_index: 25, uid: 6b566b6c-0ca3-4ed2-a6cb-865bf05b44bc\n",
            "Filter out:  image.format: GIF, url: https://res.cloudinary.com/layernft/image/fetch/f_gif,fl_lossy/q_50/https://ipfs.io/ipfs/QmP2AHMyBHr66y4qr8CUCcA3tAaAxrmn2xNYs6FS9jPTCe/nft.gif, row_index: 29, uid: 800cb69e-744e-4cb8-96d1-7b8a7d1d1783\n",
            "Filter out:  image.format: GIF, url: https://res.cloudinary.com/layernft/image/fetch/f_gif,fl_lossy/q_50/https://ipfs.io/ipfs/QmT6xLrXmT7jfkjBm67YGkCeA5RYzN9GdzLdujXKHXvxS8, row_index: 36, uid: 92db1f3f-793c-47b5-9255-78ffc66507f4\n",
            "Filter out:  image.format: GIF, url: https://res.cloudinary.com/layernft/image/fetch/f_gif,fl_lossy/q_50/https://ipfs.io/ipfs/QmZi2R3CGiFhRzm162T16JKWpoAMkFBGb5HwztKynxuktp, row_index: 38, uid: a699f702-0238-47a5-9708-7a1aafd127c4\n",
            "Filter out:  image.format: GIF, url: https://res.cloudinary.com/layernft/image/fetch/f_gif,fl_lossy/q_50/https://ipfs.io/ipfs/QmfFPofEbhYVhyfCzs4i8E6JdBLJoN5j3gZzLHVH4Fe8qv/nft.gif, row_index: 42, uid: bac02778-03b0-498f-abed-1ef557d806ce\n",
            "Filter out:  image.format: GIF, url: https://layer.gumlet.io/fetch/https%3A%2F%2Fcdn.finiliar.com%2Fipfs%2Fbafybeidwbqgwjj25xbrqtig2dg44n57plswvit5w2n5zduhqjxkw3kc4re%2Fnavy%2F3739.gif?w=1280, row_index: 45, uid: bed5107a-976c-441f-b915-ca10425799a0\n",
            "Filter out:  image.format: GIF, url: https://res.cloudinary.com/layernft/image/fetch/f_gif,fl_lossy/q_50/https://ipfs.io/ipfs/QmauKxc2y9Pg2EXBq91hYNocPRZQ1sYfPA5yMJtK3QfRFi, row_index: 50, uid: e591b8a5-7065-4f2e-a17a-b217ef4009dc\n",
            "Filter out:  image.format: GIF, url: https://res.cloudinary.com/layernft/image/fetch/f_gif,fl_lossy/q_50/https://ipfs.io/ipfs/QmTtDTF9c42Z3FdQcp7TdiihdsrAg3BMie3hnbrwSqbYhJ, row_index: 51, uid: eb063e6e-e4d9-4172-9e66-e34172ca519c\n",
            "Filter out:  image.format: GIF, url: https://res.cloudinary.com/layernft/image/fetch/f_gif,fl_lossy/q_50/https://ipfs.io/ipfs/QmP4gYvDhKDS4QvHypTti6ubbGjMNw1gQogFDDFP32nJJQ, row_index: 53, uid: f463ba6e-b95f-4934-93a0-95351b95599d\n",
            "Filter out:  image.format: GIF, url: https://res.cloudinary.com/layernft/image/fetch/f_gif,fl_lossy/q_50/https://arweave.net/V7P6upg4SLfSvhO2tuyNueVcGjIRCYuz8lIx_Sqibxw, row_index: 59, uid: 1ba3612a-f1c9-46e6-953f-667f5b429e06\n",
            "Error processing url: https://res.cloudinary.com/layernft/image/fetch/f_gif,fl_lossy/q_50/https://rstlss-content.xyz/the-key/avi/image.gif, row_index: 86, uid: ec0361bb-5b14-438b-a9d7-0aa064aa0b5f\n"
          ]
        }
      ]
    },
    {
      "cell_type": "code",
      "source": [
        "len(index_ids)"
      ],
      "metadata": {
        "colab": {
          "base_uri": "https://localhost:8080/"
        },
        "id": "OiGF1opzqErR",
        "outputId": "907fcb5f-beb0-462c-dc36-25c2663fd068"
      },
      "execution_count": 29,
      "outputs": [
        {
          "output_type": "execute_result",
          "data": {
            "text/plain": [
              "70"
            ]
          },
          "metadata": {},
          "execution_count": 29
        }
      ]
    },
    {
      "cell_type": "code",
      "source": [
        "faiss.write_index(id_index, db_path)\n",
        "\n",
        "with open(db_meta_data_path, 'wb') as f:\n",
        "  pickle.dump(index_ids, f)"
      ],
      "metadata": {
        "id": "FzfJGzKTIKTH"
      },
      "execution_count": 30,
      "outputs": []
    },
    {
      "cell_type": "code",
      "source": [],
      "metadata": {
        "id": "fAIdNvzTuAwq"
      },
      "execution_count": null,
      "outputs": []
    }
  ]
}